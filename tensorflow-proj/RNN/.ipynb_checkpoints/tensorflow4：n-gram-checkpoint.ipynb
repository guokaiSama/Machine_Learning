{
 "cells": [
  {
   "cell_type": "markdown",
   "metadata": {},
   "source": [
    "# N-Gram 模型\n",
    "\n",
    "下面我们直接用代码进行说明"
   ]
  },
  {
   "cell_type": "code",
   "execution_count": 1,
   "metadata": {},
   "outputs": [],
   "source": [
    "from __future__ import absolute_import\n",
    "from __future__ import division\n",
    "from __future__ import print_function\n",
    "\n",
    "CONTEXT_SIZE = 2 # 依据的单词数\n",
    "EMBEDDING_DIM = 10 # 词向量的维度\n",
    "# 我们使用莎士比亚的诗\n",
    "test_sentence = \"\"\"When forty winters shall besiege thy brow,\n",
    "And dig deep trenches in thy beauty's field,\n",
    "Thy youth's proud livery so gazed on now,\n",
    "Will be a totter'd weed of small worth held:\n",
    "Then being asked, where all thy beauty lies,\n",
    "Where all the treasure of thy lusty days;\n",
    "To say, within thine own deep sunken eyes,\n",
    "Were an all-eating shame, and thriftless praise.\n",
    "How much more praise deserv'd thy beauty's use,\n",
    "If thou couldst answer 'This fair child of mine\n",
    "Shall sum my count, and make my old excuse,'\n",
    "Proving his beauty by succession thine!\n",
    "This were to be new made when thou art old,\n",
    "And see thy blood warm when thou feel'st it cold.\"\"\".split()"
   ]
  },
  {
   "cell_type": "markdown",
   "metadata": {},
   "source": [
    "这里的 `CONTEXT_SIZE` 表示我们希望由前面几个单词来预测这个单词，这里使用两个单词，`EMBEDDING_DIM` 表示词嵌入的维度。\n",
    "\n",
    "接着我们建立训练集，便利整个语料库，将单词三个分组，前面两个作为输入，最后一个作为预测的结果。"
   ]
  },
  {
   "cell_type": "code",
   "execution_count": 2,
   "metadata": {},
   "outputs": [],
   "source": [
    " trigram = [((test_sentence[i], test_sentence[i+1]), test_sentence[i+2]) \n",
    "            for i in range(len(test_sentence)-2)]"
   ]
  },
  {
   "cell_type": "code",
   "execution_count": 3,
   "metadata": {},
   "outputs": [
    {
     "data": {
      "text/plain": [
       "113"
      ]
     },
     "execution_count": 3,
     "metadata": {},
     "output_type": "execute_result"
    }
   ],
   "source": [
    "# 总的数据量\n",
    "len(trigram)"
   ]
  },
  {
   "cell_type": "code",
   "execution_count": 4,
   "metadata": {},
   "outputs": [
    {
     "data": {
      "text/plain": [
       "(('When', 'forty'), 'winters')"
      ]
     },
     "execution_count": 4,
     "metadata": {},
     "output_type": "execute_result"
    }
   ],
   "source": [
    "# 取出第一个数据看看\n",
    "trigram[0]"
   ]
  },
  {
   "cell_type": "code",
   "execution_count": 5,
   "metadata": {},
   "outputs": [],
   "source": [
    "# 建立每个词与数字的编码，据此构建词嵌入\n",
    "vocb = set(test_sentence) # 使用 set 将重复的元素去掉\n",
    "word_to_idx = {word: i for i, word in enumerate(vocb)}\n",
    "idx_to_word = {word_to_idx[word]: word for word in word_to_idx}"
   ]
  },
  {
   "cell_type": "code",
   "execution_count": 6,
   "metadata": {},
   "outputs": [
    {
     "data": {
      "text/plain": [
       "{\"'This\": 53,\n",
       " 'And': 22,\n",
       " 'How': 21,\n",
       " 'If': 63,\n",
       " 'Proving': 60,\n",
       " 'Shall': 4,\n",
       " 'Then': 89,\n",
       " 'This': 57,\n",
       " 'Thy': 28,\n",
       " 'To': 14,\n",
       " 'Were': 38,\n",
       " 'When': 84,\n",
       " 'Where': 24,\n",
       " 'Will': 82,\n",
       " 'a': 3,\n",
       " 'all': 2,\n",
       " 'all-eating': 67,\n",
       " 'an': 61,\n",
       " 'and': 46,\n",
       " 'answer': 52,\n",
       " 'art': 35,\n",
       " 'asked,': 80,\n",
       " 'be': 37,\n",
       " 'beauty': 81,\n",
       " \"beauty's\": 31,\n",
       " 'being': 92,\n",
       " 'besiege': 75,\n",
       " 'blood': 91,\n",
       " 'brow,': 55,\n",
       " 'by': 65,\n",
       " 'child': 17,\n",
       " 'cold.': 85,\n",
       " 'couldst': 77,\n",
       " 'count,': 39,\n",
       " 'days;': 70,\n",
       " 'deep': 44,\n",
       " \"deserv'd\": 87,\n",
       " 'dig': 76,\n",
       " \"excuse,'\": 90,\n",
       " 'eyes,': 49,\n",
       " 'fair': 56,\n",
       " \"feel'st\": 73,\n",
       " 'field,': 54,\n",
       " 'forty': 45,\n",
       " 'gazed': 13,\n",
       " 'held:': 78,\n",
       " 'his': 74,\n",
       " 'in': 62,\n",
       " 'it': 66,\n",
       " 'lies,': 95,\n",
       " 'livery': 34,\n",
       " 'lusty': 33,\n",
       " 'made': 0,\n",
       " 'make': 27,\n",
       " 'mine': 50,\n",
       " 'more': 96,\n",
       " 'much': 64,\n",
       " 'my': 25,\n",
       " 'new': 6,\n",
       " 'now,': 30,\n",
       " 'of': 10,\n",
       " 'old': 93,\n",
       " 'old,': 20,\n",
       " 'on': 48,\n",
       " 'own': 5,\n",
       " 'praise': 36,\n",
       " 'praise.': 32,\n",
       " 'proud': 29,\n",
       " 'say,': 40,\n",
       " 'see': 8,\n",
       " 'shall': 41,\n",
       " 'shame,': 16,\n",
       " 'small': 15,\n",
       " 'so': 12,\n",
       " 'succession': 26,\n",
       " 'sum': 1,\n",
       " 'sunken': 11,\n",
       " 'the': 79,\n",
       " 'thine': 43,\n",
       " 'thine!': 18,\n",
       " 'thou': 83,\n",
       " 'thriftless': 47,\n",
       " 'thy': 88,\n",
       " 'to': 94,\n",
       " \"totter'd\": 7,\n",
       " 'treasure': 51,\n",
       " 'trenches': 19,\n",
       " 'use,': 23,\n",
       " 'warm': 69,\n",
       " 'weed': 42,\n",
       " 'were': 72,\n",
       " 'when': 86,\n",
       " 'where': 71,\n",
       " 'winters': 59,\n",
       " 'within': 68,\n",
       " 'worth': 9,\n",
       " \"youth's\": 58}"
      ]
     },
     "execution_count": 6,
     "metadata": {},
     "output_type": "execute_result"
    }
   ],
   "source": [
    "word_to_idx"
   ]
  },
  {
   "cell_type": "markdown",
   "metadata": {},
   "source": [
    "从上面可以看到每个词都对应一个数字，且这里的单词都各不相同\n",
    "\n",
    "接着我们定义模型，模型的输入就是前面的两个词，输出就是预测单词的概率"
   ]
  },
  {
   "cell_type": "code",
   "execution_count": 7,
   "metadata": {},
   "outputs": [
    {
     "name": "stderr",
     "output_type": "stream",
     "text": [
      "/usr/local/lib/python3.5/dist-packages/h5py/__init__.py:36: FutureWarning: Conversion of the second argument of issubdtype from `float` to `np.floating` is deprecated. In future, it will be treated as `np.float64 == np.dtype(float).type`.\n",
      "  from ._conv import register_converters as _register_converters\n"
     ]
    }
   ],
   "source": [
    "import tensorflow as tf\n",
    "import tensorflow.contrib.slim as slim"
   ]
  },
  {
   "cell_type": "code",
   "execution_count": 8,
   "metadata": {},
   "outputs": [],
   "source": [
    "def n_gram(inputs, vocab_size, context_size=CONTEXT_SIZE, n_dim=EMBEDDING_DIM, scope='n-gram', reuse=None):\n",
    "    with tf.variable_scope(scope, reuse=reuse):\n",
    "        with tf.device('/cpu:0'):\n",
    "            embeddings = tf.get_variable('embeddings', shape=[vocab_size, n_dim], initializer=tf.random_uniform_initializer)\n",
    "        embed = tf.nn.embedding_lookup(embeddings, inputs)\n",
    "        \n",
    "        net = tf.reshape(embed, (1, -1))\n",
    "        net = slim.fully_connected(net, vocab_size, activation_fn=None, scope='classification')\n",
    "        \n",
    "        return net"
   ]
  },
  {
   "cell_type": "code",
   "execution_count": 9,
   "metadata": {},
   "outputs": [],
   "source": [
    "input_ph = tf.placeholder(dtype=tf.int64, shape=[2 ], name='input')\n",
    "label_ph = tf.placeholder(dtype=tf.int64, shape=[1,], name='label')\n",
    "\n",
    "net = n_gram(input_ph, len(word_to_idx))"
   ]
  },
  {
   "cell_type": "code",
   "execution_count": 10,
   "metadata": {},
   "outputs": [],
   "source": [
    "loss = tf.losses.sparse_softmax_cross_entropy(label_ph, net, scope='loss')"
   ]
  },
  {
   "cell_type": "code",
   "execution_count": 11,
   "metadata": {},
   "outputs": [],
   "source": [
    "opt = tf.train.MomentumOptimizer(1e-2, 0.9)\n",
    "train_op = opt.minimize(loss)"
   ]
  },
  {
   "cell_type": "code",
   "execution_count": 12,
   "metadata": {},
   "outputs": [],
   "source": [
    "sess = tf.InteractiveSession()\n",
    "sess.run(tf.global_variables_initializer())"
   ]
  },
  {
   "cell_type": "code",
   "execution_count": 13,
   "metadata": {
    "scrolled": false
   },
   "outputs": [
    {
     "name": "stdout",
     "output_type": "stream",
     "text": [
      "Epoch: 20, Loss: 0.211326\n",
      "Epoch: 40, Loss: 0.064162\n",
      "Epoch: 60, Loss: 0.045913\n",
      "Epoch: 80, Loss: 0.037720\n",
      "Epoch: 100, Loss: 0.033036\n"
     ]
    }
   ],
   "source": [
    "for e in range(100):\n",
    "    train_loss = 0\n",
    "    for word, label in trigram[:100]:\n",
    "        word = [word_to_idx[i] for i in word]\n",
    "        label = [word_to_idx[label]]\n",
    "        \n",
    "        _, curr_loss = sess.run([train_op, loss], feed_dict={input_ph: word, label_ph: label})\n",
    "        train_loss += curr_loss\n",
    "    \n",
    "    if (e + 1) % 20 == 0:\n",
    "        print('Epoch: {}, Loss: {:.6f}'.format(e + 1, train_loss / 100))"
   ]
  },
  {
   "cell_type": "code",
   "execution_count": 14,
   "metadata": {},
   "outputs": [
    {
     "name": "stdout",
     "output_type": "stream",
     "text": [
      "input: ('so', 'gazed')\n",
      "label: on\n",
      "\n",
      "real word is on, predicted word is on\n"
     ]
    }
   ],
   "source": [
    "# 测试一下结果\n",
    "word, label = trigram[19]\n",
    "print('input: {}'.format(word))\n",
    "print('label: {}'.format(label))\n",
    "print()\n",
    "word = [word_to_idx[i] for i in word]\n",
    "out = sess.run(net, feed_dict={input_ph: word})\n",
    "pred_label_idx = out[0].argmax()\n",
    "predict_word = idx_to_word[pred_label_idx]\n",
    "print('real word is {}, predicted word is {}'.format(label, predict_word))"
   ]
  },
  {
   "cell_type": "code",
   "execution_count": 15,
   "metadata": {},
   "outputs": [
    {
     "name": "stdout",
     "output_type": "stream",
     "text": [
      "input: (\"'This\", 'fair')\n",
      "label: child\n",
      "\n",
      "real word is child, predicted word is child\n"
     ]
    }
   ],
   "source": [
    "word, label = trigram[75]\n",
    "print('input: {}'.format(word))\n",
    "print('label: {}'.format(label))\n",
    "print()\n",
    "word = [word_to_idx[i] for i in word]\n",
    "out = sess.run(net, feed_dict={input_ph: word})\n",
    "pred_label_idx = out[0].argmax()\n",
    "predict_word = idx_to_word[pred_label_idx]\n",
    "print('real word is {}, predicted word is {}'.format(label, predict_word))"
   ]
  },
  {
   "cell_type": "markdown",
   "metadata": {},
   "source": [
    "可以看到网络在训练集上基本能够预测准确，不过这里样本太少，特别容易过拟合。\n",
    "\n",
    "下一次课我们会讲一讲 RNN 如何应用在自然语言处理中"
   ]
  }
 ],
 "metadata": {
  "kernelspec": {
   "display_name": "Python 3",
   "language": "python",
   "name": "python3"
  },
  "language_info": {
   "codemirror_mode": {
    "name": "ipython",
    "version": 3
   },
   "file_extension": ".py",
   "mimetype": "text/x-python",
   "name": "python",
   "nbconvert_exporter": "python",
   "pygments_lexer": "ipython3",
   "version": "3.5.2"
  }
 },
 "nbformat": 4,
 "nbformat_minor": 2
}
