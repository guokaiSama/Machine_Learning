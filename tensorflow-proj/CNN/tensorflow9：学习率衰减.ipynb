{
 "cells": [
  {
   "cell_type": "markdown",
   "metadata": {},
   "source": [
    "# 学习率衰减\n",
    "对于基于一阶梯度进行优化的方法而言，开始的时候更新的幅度是比较大的，也就是说开始的学习率可以设置大一点，但是当训练集的 loss 下降到一定程度之后，使用这个太大的学习率就会导致 loss 一直来回震荡"
   ]
  },
  {
   "cell_type": "markdown",
   "metadata": {},
   "source": [
    "这个时候就需要对学习率进行衰减已达到 loss 的充分下降，而是用学习率衰减的办法能够解决这个矛盾，学习率衰减就是随着训练的进行不断的减小学习率。\n",
    "\n",
    "在`tensorflow`中学习率衰减非常方便，使用 `tf.train.exponential_decay`, 但是它只支持指数式衰减和固定步长衰减, 不是很方便\n",
    "我们使用`placeholder`来实现学习率衰减会更加灵活"
   ]
  },
  {
   "cell_type": "code",
   "execution_count": 1,
   "metadata": {},
   "outputs": [
    {
     "name": "stderr",
     "output_type": "stream",
     "text": [
      "/usr/local/lib/python3.5/dist-packages/h5py/__init__.py:36: FutureWarning: Conversion of the second argument of issubdtype from `float` to `np.floating` is deprecated. In future, it will be treated as `np.float64 == np.dtype(float).type`.\n",
      "  from ._conv import register_converters as _register_converters\n"
     ]
    }
   ],
   "source": [
    "from __future__ import print_function\n",
    "from __future__ import division\n",
    "from __future__ import absolute_import\n",
    "\n",
    "import tensorflow as tf\n",
    "import tensorflow.contrib.slim as slim\n",
    "\n",
    "from utils import cifar10_input\n",
    "from utils import resnet"
   ]
  },
  {
   "cell_type": "markdown",
   "metadata": {},
   "source": [
    "在这里, 我们用函数设计一个下降策略:\n",
    "- 当训练步数小于12000时, 输出0.01\n",
    "- 大于12000时输出0.001"
   ]
  },
  {
   "cell_type": "code",
   "execution_count": 2,
   "metadata": {},
   "outputs": [],
   "source": [
    "def lr_step(step, **kwargs):\n",
    "    lr = tf.cond(tf.less(step, 12000), lambda: 0.1, lambda: 0.01)\n",
    "    \n",
    "    return lr"
   ]
  },
  {
   "cell_type": "code",
   "execution_count": 4,
   "metadata": {},
   "outputs": [],
   "source": [
    "# 导入数据\n",
    "train_imgs, train_labels, val_imgs, val_labels = cifar10_input.load_data(image_size=96)"
   ]
  },
  {
   "cell_type": "code",
   "execution_count": 5,
   "metadata": {},
   "outputs": [],
   "source": [
    "is_training = tf.placeholder(tf.bool, name='is_training')    "
   ]
  },
  {
   "cell_type": "code",
   "execution_count": 6,
   "metadata": {},
   "outputs": [
    {
     "name": "stdout",
     "output_type": "stream",
     "text": [
      "WARNING:tensorflow:From /home/dgx/gklearn/CNN/utils/resnet.py:72: calling reduce_mean (from tensorflow.python.ops.math_ops) with keep_dims is deprecated and will be removed in a future version.\n",
      "Instructions for updating:\n",
      "keep_dims is deprecated, use keepdims instead\n"
     ]
    }
   ],
   "source": [
    "with slim.arg_scope(resnet.resnet_arg_scope()):\n",
    "    train_out = resnet.resnet(train_imgs, 10, is_training=is_training)\n",
    "    val_out = resnet.resnet(val_imgs, 10, is_training=is_training, reuse=True)"
   ]
  },
  {
   "cell_type": "code",
   "execution_count": 7,
   "metadata": {},
   "outputs": [],
   "source": [
    "with tf.variable_scope('loss'):\n",
    "    train_loss = tf.losses.sparse_softmax_cross_entropy(labels=train_labels, logits=train_out, scope='train')\n",
    "    val_loss = tf.losses.sparse_softmax_cross_entropy(labels=val_labels, logits=val_out, scope='val')"
   ]
  },
  {
   "cell_type": "code",
   "execution_count": 8,
   "metadata": {},
   "outputs": [],
   "source": [
    "with tf.name_scope('accuracy'):\n",
    "    with tf.name_scope('train'):\n",
    "        train_acc = tf.reduce_mean(tf.cast(tf.equal(tf.argmax(train_out, axis=-1, output_type=tf.int32), train_labels), tf.float32))\n",
    "    with tf.name_scope('val'):\n",
    "        val_acc = tf.reduce_mean(tf.cast(tf.equal(tf.argmax(val_out, axis=-1, output_type=tf.int32), val_labels), tf.float32))"
   ]
  },
  {
   "cell_type": "markdown",
   "metadata": {},
   "source": [
    "在这里我们用一个占位符来表示学习率, 方便在训练过程中我们从外部修改它"
   ]
  },
  {
   "cell_type": "code",
   "execution_count": 9,
   "metadata": {},
   "outputs": [],
   "source": [
    "train_step = tf.Variable(0, trainable=False, name='train_step')\n",
    "lr = lr_step(train_step)\n",
    "\n",
    "opt = tf.train.MomentumOptimizer(lr, momentum=0.9)"
   ]
  },
  {
   "cell_type": "code",
   "execution_count": 10,
   "metadata": {},
   "outputs": [],
   "source": [
    "update_ops = tf.get_collection(tf.GraphKeys.UPDATE_OPS)\n",
    "with tf.control_dependencies(update_ops):\n",
    "    train_op = opt.minimize(train_loss, global_step=train_step)"
   ]
  },
  {
   "cell_type": "code",
   "execution_count": 11,
   "metadata": {},
   "outputs": [],
   "source": [
    "from utils.learning import train_with_bn"
   ]
  },
  {
   "cell_type": "code",
   "execution_count": 14,
   "metadata": {
    "scrolled": false
   },
   "outputs": [
    {
     "name": "stdout",
     "output_type": "stream",
     "text": [
      "[train]: step 0 loss = 2.4259 acc = 0.1094 (0.0916 / batch)\n",
      "[val]: step 0 loss = 2.4605 acc = 0.1250\n",
      "[train]: step 200 loss = 406.4805 acc = 0.0156 (0.0960 / batch)\n",
      "[val]: step 200 loss = 610.1675 acc = 0.0938\n",
      "[train]: step 400 loss = 8.1461 acc = 0.1250 (0.0910 / batch)\n",
      "[val]: step 400 loss = 6.4340 acc = 0.1094\n",
      "[train]: step 600 loss = 4.2480 acc = 0.1406 (0.0910 / batch)\n",
      "[val]: step 600 loss = 3.4661 acc = 0.2188\n",
      "[train]: step 800 loss = 2.9387 acc = 0.2344 (0.0860 / batch)\n",
      "[val]: step 800 loss = 3.1387 acc = 0.2031\n",
      "[train]: step 1000 loss = 2.6840 acc = 0.1406 (0.0869 / batch)\n",
      "[val]: step 1000 loss = 2.6694 acc = 0.2344\n",
      "[train]: step 1200 loss = 1.9566 acc = 0.3125 (0.0889 / batch)\n",
      "[val]: step 1200 loss = 2.2255 acc = 0.2500\n",
      "[train]: step 1400 loss = 4.1973 acc = 0.1094 (0.0895 / batch)\n",
      "[val]: step 1400 loss = 3.6811 acc = 0.1875\n",
      "[train]: step 1600 loss = 2.8536 acc = 0.2969 (0.0867 / batch)\n",
      "[val]: step 1600 loss = 2.6531 acc = 0.3594\n",
      "[train]: step 1800 loss = 1.7539 acc = 0.5000 (0.0862 / batch)\n",
      "[val]: step 1800 loss = 2.3761 acc = 0.3438\n",
      "[train]: step 2000 loss = 1.3459 acc = 0.5781 (0.0906 / batch)\n",
      "[val]: step 2000 loss = 1.7536 acc = 0.4688\n",
      "[train]: step 2200 loss = 2.0277 acc = 0.5312 (0.0891 / batch)\n",
      "[val]: step 2200 loss = 2.3501 acc = 0.4062\n",
      "[train]: step 2400 loss = 1.3172 acc = 0.5781 (0.0888 / batch)\n",
      "[val]: step 2400 loss = 1.4909 acc = 0.5781\n",
      "[train]: step 2600 loss = 1.4969 acc = 0.5625 (0.0906 / batch)\n",
      "[val]: step 2600 loss = 1.0540 acc = 0.6250\n",
      "[train]: step 2800 loss = 1.0123 acc = 0.6406 (0.0849 / batch)\n",
      "[val]: step 2800 loss = 1.6688 acc = 0.4844\n",
      "[train]: step 3000 loss = 1.0199 acc = 0.6406 (0.0860 / batch)\n",
      "[val]: step 3000 loss = 1.2539 acc = 0.5625\n",
      "[train]: step 3200 loss = 0.7608 acc = 0.7500 (0.0841 / batch)\n",
      "[val]: step 3200 loss = 1.3101 acc = 0.5625\n",
      "[train]: step 3400 loss = 1.0762 acc = 0.6875 (0.0837 / batch)\n",
      "[val]: step 3400 loss = 1.4811 acc = 0.5781\n",
      "[train]: step 3600 loss = 0.8426 acc = 0.7500 (0.0919 / batch)\n",
      "[val]: step 3600 loss = 0.7690 acc = 0.7344\n",
      "[train]: step 3800 loss = 1.0142 acc = 0.6250 (0.0910 / batch)\n",
      "[val]: step 3800 loss = 0.9385 acc = 0.6875\n",
      "[train]: step 4000 loss = 0.5033 acc = 0.8125 (0.0875 / batch)\n",
      "[val]: step 4000 loss = 0.6426 acc = 0.7812\n",
      "[train]: step 4200 loss = 0.5492 acc = 0.8125 (0.0841 / batch)\n",
      "[val]: step 4200 loss = 1.1501 acc = 0.6250\n",
      "[train]: step 4400 loss = 1.1752 acc = 0.5938 (0.0846 / batch)\n",
      "[val]: step 4400 loss = 1.0515 acc = 0.7031\n",
      "[train]: step 4600 loss = 0.7588 acc = 0.7188 (0.0838 / batch)\n",
      "[val]: step 4600 loss = 0.6873 acc = 0.7500\n",
      "[train]: step 4800 loss = 0.9629 acc = 0.7188 (0.0899 / batch)\n",
      "[val]: step 4800 loss = 1.1080 acc = 0.5781\n",
      "[train]: step 5000 loss = 0.9250 acc = 0.6562 (0.0906 / batch)\n",
      "[val]: step 5000 loss = 1.2420 acc = 0.5781\n",
      "[train]: step 5200 loss = 0.7591 acc = 0.6719 (0.0919 / batch)\n",
      "[val]: step 5200 loss = 0.9538 acc = 0.6562\n",
      "[train]: step 5400 loss = 0.6271 acc = 0.7344 (0.0867 / batch)\n",
      "[val]: step 5400 loss = 1.0768 acc = 0.5938\n",
      "[train]: step 5600 loss = 0.7161 acc = 0.7500 (0.0844 / batch)\n",
      "[val]: step 5600 loss = 0.9034 acc = 0.6562\n",
      "[train]: step 5800 loss = 0.9021 acc = 0.7031 (0.0855 / batch)\n",
      "[val]: step 5800 loss = 0.8304 acc = 0.7031\n",
      "[train]: step 6000 loss = 0.9882 acc = 0.6562 (0.0814 / batch)\n",
      "[val]: step 6000 loss = 0.9561 acc = 0.6562\n",
      "[train]: step 6200 loss = 0.6348 acc = 0.7656 (0.0835 / batch)\n",
      "[val]: step 6200 loss = 0.7264 acc = 0.6875\n",
      "[train]: step 6400 loss = 0.8648 acc = 0.7656 (0.0849 / batch)\n",
      "[val]: step 6400 loss = 1.1630 acc = 0.6875\n",
      "[train]: step 6600 loss = 0.6310 acc = 0.7500 (0.0850 / batch)\n",
      "[val]: step 6600 loss = 1.1902 acc = 0.6406\n",
      "[train]: step 6800 loss = 0.6879 acc = 0.7188 (0.0844 / batch)\n",
      "[val]: step 6800 loss = 0.6172 acc = 0.7969\n",
      "[train]: step 7000 loss = 0.4886 acc = 0.8594 (0.0848 / batch)\n",
      "[val]: step 7000 loss = 1.0445 acc = 0.6562\n",
      "[train]: step 7200 loss = 0.7924 acc = 0.7656 (0.0850 / batch)\n",
      "[val]: step 7200 loss = 1.0647 acc = 0.6875\n",
      "[train]: step 7400 loss = 0.4506 acc = 0.8594 (0.0848 / batch)\n",
      "[val]: step 7400 loss = 0.7497 acc = 0.7344\n",
      "[train]: step 7600 loss = 0.3297 acc = 0.8594 (0.0854 / batch)\n",
      "[val]: step 7600 loss = 0.8976 acc = 0.7344\n",
      "[train]: step 7800 loss = 0.4517 acc = 0.8281 (0.0850 / batch)\n",
      "[val]: step 7800 loss = 1.0056 acc = 0.6719\n",
      "[train]: step 8000 loss = 0.7114 acc = 0.7344 (0.0848 / batch)\n",
      "[val]: step 8000 loss = 0.9219 acc = 0.7500\n",
      "[train]: step 8200 loss = 0.5310 acc = 0.7969 (0.0853 / batch)\n",
      "[val]: step 8200 loss = 0.7719 acc = 0.6875\n",
      "[train]: step 8400 loss = 0.5500 acc = 0.7812 (0.0852 / batch)\n",
      "[val]: step 8400 loss = 1.0124 acc = 0.7188\n",
      "[train]: step 8600 loss = 0.4040 acc = 0.8594 (0.0846 / batch)\n",
      "[val]: step 8600 loss = 1.2059 acc = 0.6562\n",
      "[train]: step 8800 loss = 1.3532 acc = 0.5938 (0.0828 / batch)\n",
      "[val]: step 8800 loss = 0.8895 acc = 0.7812\n",
      "[train]: step 9000 loss = 0.6549 acc = 0.8125 (0.0851 / batch)\n",
      "[val]: step 9000 loss = 1.0845 acc = 0.7656\n",
      "[train]: step 9200 loss = 0.5545 acc = 0.7656 (0.0849 / batch)\n",
      "[val]: step 9200 loss = 0.8211 acc = 0.7344\n",
      "[train]: step 9400 loss = 0.3796 acc = 0.8438 (0.0851 / batch)\n",
      "[val]: step 9400 loss = 0.7960 acc = 0.7031\n",
      "[train]: step 9600 loss = 0.2845 acc = 0.8750 (0.0847 / batch)\n",
      "[val]: step 9600 loss = 0.7030 acc = 0.7188\n",
      "[train]: step 9800 loss = 0.3217 acc = 0.8594 (0.0847 / batch)\n",
      "[val]: step 9800 loss = 0.8209 acc = 0.7031\n",
      "[train]: step 10000 loss = 0.4096 acc = 0.8281 (0.0849 / batch)\n",
      "[val]: step 10000 loss = 1.3595 acc = 0.7188\n",
      "[train]: step 10200 loss = 0.2744 acc = 0.8906 (0.0765 / batch)\n",
      "[val]: step 10200 loss = 0.7005 acc = 0.7812\n",
      "[train]: step 10400 loss = 0.4324 acc = 0.8594 (0.0838 / batch)\n",
      "[val]: step 10400 loss = 0.9131 acc = 0.7344\n",
      "[train]: step 10600 loss = 0.6263 acc = 0.7969 (0.0826 / batch)\n",
      "[val]: step 10600 loss = 0.7865 acc = 0.7344\n",
      "[train]: step 10800 loss = 0.5735 acc = 0.8125 (0.0811 / batch)\n",
      "[val]: step 10800 loss = 1.0965 acc = 0.7969\n",
      "[train]: step 11000 loss = 0.3101 acc = 0.8906 (0.0806 / batch)\n",
      "[val]: step 11000 loss = 1.2578 acc = 0.7031\n",
      "[train]: step 11200 loss = 0.3760 acc = 0.9062 (0.0815 / batch)\n",
      "[val]: step 11200 loss = 0.5150 acc = 0.8281\n",
      "[train]: step 11400 loss = 0.2245 acc = 0.9219 (0.0719 / batch)\n",
      "[val]: step 11400 loss = 1.7636 acc = 0.6250\n",
      "[train]: step 11600 loss = 0.3140 acc = 0.8750 (0.0827 / batch)\n",
      "[val]: step 11600 loss = 1.0147 acc = 0.7500\n",
      "[train]: step 11800 loss = 0.2278 acc = 0.9062 (0.0852 / batch)\n",
      "[val]: step 11800 loss = 1.0496 acc = 0.7656\n",
      "[train]: step 12000 loss = 0.3148 acc = 0.9062 (0.0848 / batch)\n",
      "[val]: step 12000 loss = 1.0847 acc = 0.7188\n",
      "[train]: step 12200 loss = 0.1310 acc = 0.9688 (0.0848 / batch)\n",
      "[val]: step 12200 loss = 0.5724 acc = 0.8281\n",
      "[train]: step 12400 loss = 0.0669 acc = 0.9688 (0.0848 / batch)\n",
      "[val]: step 12400 loss = 0.9439 acc = 0.7812\n",
      "[train]: step 12600 loss = 0.0758 acc = 0.9844 (0.0851 / batch)\n",
      "[val]: step 12600 loss = 0.2725 acc = 0.8750\n",
      "[train]: step 12800 loss = 0.0584 acc = 1.0000 (0.0845 / batch)\n",
      "[val]: step 12800 loss = 0.6491 acc = 0.7188\n",
      "[train]: step 13000 loss = 0.0567 acc = 0.9844 (0.0846 / batch)\n",
      "[val]: step 13000 loss = 0.6381 acc = 0.8438\n",
      "[train]: step 13200 loss = 0.0195 acc = 1.0000 (0.0849 / batch)\n",
      "[val]: step 13200 loss = 0.5761 acc = 0.8281\n",
      "[train]: step 13400 loss = 0.0407 acc = 1.0000 (0.0853 / batch)\n",
      "[val]: step 13400 loss = 1.0273 acc = 0.7656\n",
      "[train]: step 13600 loss = 0.0278 acc = 0.9844 (0.0850 / batch)\n",
      "[val]: step 13600 loss = 0.7210 acc = 0.8438\n",
      "[train]: step 13800 loss = 0.0187 acc = 1.0000 (0.0851 / batch)\n",
      "[val]: step 13800 loss = 0.5333 acc = 0.8438\n",
      "[train]: step 14000 loss = 0.0424 acc = 0.9844 (0.0849 / batch)\n",
      "[val]: step 14000 loss = 0.3999 acc = 0.9219\n",
      "[train]: step 14200 loss = 0.0243 acc = 1.0000 (0.0850 / batch)\n",
      "[val]: step 14200 loss = 1.0615 acc = 0.6562\n",
      "[train]: step 14400 loss = 0.0090 acc = 1.0000 (0.0848 / batch)\n",
      "[val]: step 14400 loss = 0.3578 acc = 0.8906\n",
      "[train]: step 14600 loss = 0.0169 acc = 1.0000 (0.0848 / batch)\n",
      "[val]: step 14600 loss = 0.3932 acc = 0.8906\n",
      "[train]: step 14800 loss = 0.0251 acc = 1.0000 (0.0846 / batch)\n",
      "[val]: step 14800 loss = 1.0690 acc = 0.6719\n",
      "[train]: step 15000 loss = 0.0225 acc = 1.0000 (0.0849 / batch)\n",
      "[val]: step 15000 loss = 1.0517 acc = 0.7188\n",
      "[train]: step 15200 loss = 0.0363 acc = 1.0000 (0.0851 / batch)\n",
      "[val]: step 15200 loss = 0.7480 acc = 0.8125\n"
     ]
    },
    {
     "name": "stdout",
     "output_type": "stream",
     "text": [
      "[train]: step 15400 loss = 0.0132 acc = 1.0000 (0.0849 / batch)\n",
      "[val]: step 15400 loss = 0.2961 acc = 0.8750\n",
      "[train]: step 15600 loss = 0.0268 acc = 1.0000 (0.0854 / batch)\n",
      "[val]: step 15600 loss = 0.6672 acc = 0.7656\n",
      "[train]: step 15800 loss = 0.0106 acc = 1.0000 (0.0852 / batch)\n",
      "[val]: step 15800 loss = 0.7615 acc = 0.8594\n",
      "[train]: step 16000 loss = 0.0145 acc = 1.0000 (0.0850 / batch)\n",
      "[val]: step 16000 loss = 0.8127 acc = 0.8281\n",
      "[train]: step 16200 loss = 0.0107 acc = 1.0000 (0.0849 / batch)\n",
      "[val]: step 16200 loss = 0.7371 acc = 0.8125\n",
      "[train]: step 16400 loss = 0.0246 acc = 1.0000 (0.0848 / batch)\n",
      "[val]: step 16400 loss = 0.9524 acc = 0.8125\n",
      "[train]: step 16600 loss = 0.0271 acc = 0.9844 (0.0847 / batch)\n",
      "[val]: step 16600 loss = 1.1770 acc = 0.7344\n",
      "[train]: step 16800 loss = 0.0096 acc = 1.0000 (0.0848 / batch)\n",
      "[val]: step 16800 loss = 1.0740 acc = 0.6875\n",
      "[train]: step 17000 loss = 0.0067 acc = 1.0000 (0.0849 / batch)\n",
      "[val]: step 17000 loss = 1.3294 acc = 0.7969\n",
      "[train]: step 17200 loss = 0.0064 acc = 1.0000 (0.0851 / batch)\n",
      "[val]: step 17200 loss = 1.2740 acc = 0.7500\n",
      "[train]: step 17400 loss = 0.0107 acc = 1.0000 (0.0848 / batch)\n",
      "[val]: step 17400 loss = 0.6950 acc = 0.7969\n",
      "[train]: step 17600 loss = 0.0075 acc = 1.0000 (0.0846 / batch)\n",
      "[val]: step 17600 loss = 0.9116 acc = 0.7656\n",
      "[train]: step 17800 loss = 0.0100 acc = 1.0000 (0.0846 / batch)\n",
      "[val]: step 17800 loss = 0.8466 acc = 0.8125\n",
      "[train]: step 18000 loss = 0.0085 acc = 1.0000 (0.0847 / batch)\n",
      "[val]: step 18000 loss = 0.8014 acc = 0.8125\n",
      "[train]: step 18200 loss = 0.0131 acc = 1.0000 (0.0849 / batch)\n",
      "[val]: step 18200 loss = 0.9830 acc = 0.7656\n",
      "[train]: step 18400 loss = 0.0070 acc = 1.0000 (0.0850 / batch)\n",
      "[val]: step 18400 loss = 1.3044 acc = 0.7344\n",
      "[train]: step 18600 loss = 0.0115 acc = 1.0000 (0.0847 / batch)\n",
      "[val]: step 18600 loss = 0.6403 acc = 0.8125\n",
      "[train]: step 18800 loss = 0.0065 acc = 1.0000 (0.0851 / batch)\n",
      "[val]: step 18800 loss = 0.8308 acc = 0.7812\n",
      "[train]: step 19000 loss = 0.0047 acc = 1.0000 (0.0851 / batch)\n",
      "[val]: step 19000 loss = 1.2984 acc = 0.7188\n",
      "[train]: step 19200 loss = 0.0050 acc = 1.0000 (0.0851 / batch)\n",
      "[val]: step 19200 loss = 1.0188 acc = 0.7344\n",
      "[train]: step 19400 loss = 0.0099 acc = 1.0000 (0.0849 / batch)\n",
      "[val]: step 19400 loss = 0.8365 acc = 0.8125\n",
      "[train]: step 19600 loss = 0.0048 acc = 1.0000 (0.0848 / batch)\n",
      "[val]: step 19600 loss = 1.0816 acc = 0.7656\n",
      "[train]: step 19800 loss = 0.0105 acc = 1.0000 (0.0855 / batch)\n",
      "[val]: step 19800 loss = 1.2177 acc = 0.7656\n",
      "[train]: step 20000 loss = 0.0082 acc = 1.0000 (0.0851 / batch)\n",
      "[val]: step 20000 loss = 0.5880 acc = 0.8594\n",
      "-------------------------Over all Result-------------------------\n",
      "[TRAIN]: loss = 0.0069 acc = 0.9998\n",
      "[VAL]: loss = 0.8055 acc = 0.8014\n"
     ]
    }
   ],
   "source": [
    "sess = tf.Session()\n",
    "sess.run(tf.global_variables_initializer())\n",
    "\n",
    "train_losses, train_accs, val_losses, val_accs = \\\n",
    "    train_with_bn(sess, train_op, train_loss, train_acc, val_loss, val_acc, 20000, is_training=is_training, \\\n",
    "                 train_log_step=200, val_log_step=200)\n",
    "    \n",
    "sess.close()"
   ]
  },
  {
   "cell_type": "code",
   "execution_count": 13,
   "metadata": {},
   "outputs": [],
   "source": [
    "import matplotlib.pyplot as plt\n",
    "import numpy as np\n",
    "%matplotlib inline"
   ]
  },
  {
   "cell_type": "code",
   "execution_count": 15,
   "metadata": {},
   "outputs": [
    {
     "data": {
      "text/plain": [
       "<matplotlib.legend.Legend at 0x7f48e80348d0>"
      ]
     },
     "execution_count": 15,
     "metadata": {},
     "output_type": "execute_result"
    },
    {
     "data": {
      "image/png": "[encoded data removed]",
      "text/plain": [
       "<Figure size 432x288 with 1 Axes>"
      ]
     },
     "metadata": {},
     "output_type": "display_data"
    }
   ],
   "source": [
    "x_axis = np.arange(5, 101) * 200\n",
    "plt.plot(x_axis, train_losses[5:], label='train')\n",
    "plt.plot(x_axis, val_losses[5:], label='valid')\n",
    "plt.xlabel('step')\n",
    "plt.legend(loc='best')"
   ]
  },
  {
   "cell_type": "markdown",
   "metadata": {},
   "source": [
    "这里我们训练了`20000`次，在`12000`次的时候进行了学习率衰减，可以看 loss 曲线在 20 次的时候不管是 train loss 还是 valid loss，都有了一个陡降。\n",
    "\n",
    "当然这里我们只是作为举例，在实际应用中，做学习率衰减之前应该经过充分的训练，比如训练 80 个`epoch`或者 100 个`epoch`，然后再做学习率衰减得到更好的结果，有的时候甚至需要做多次学习率衰减"
   ]
  }
 ],
 "metadata": {
  "kernelspec": {
   "display_name": "Python 2",
   "language": "python",
   "name": "python2"
  },
  "language_info": {
   "codemirror_mode": {
    "name": "ipython",
    "version": 3
   },
   "file_extension": ".py",
   "mimetype": "text/x-python",
   "name": "python",
   "nbconvert_exporter": "python",
   "pygments_lexer": "ipython3",
   "version": "3.5.2"
  }
 },
 "nbformat": 4,
 "nbformat_minor": 2
}
