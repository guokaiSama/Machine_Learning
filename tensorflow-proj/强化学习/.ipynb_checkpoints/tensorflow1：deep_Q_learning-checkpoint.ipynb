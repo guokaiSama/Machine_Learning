{
 "cells": [
  {
   "cell_type": "markdown",
   "metadata": {},
   "source": [
    "# Deep Q Networks\n",
    "前面我们介绍了强化学习中的 q-learning，我们知道对于 q-learning，我们需要使用一个 Q 表来存储我们的状态和动作，每次我们使用 agent 不断探索环境来更新 Q 表，最后我们能够根据 Q 表中的状态和动作来选择最优的策略。但是使用这种方式有一个很大的局限性，如果在现实生活中，情况就会变得非常的复杂，我们可能有成千上万个 state，甚至是无穷无尽有可能是无穷无尽的 state，对于这种情况，我们不可能将所有的 state 都用 Q 表来存储，那么我们该如何解决这个问题呢？\n",
    "\n",
    "一个非常简单的办法就是使用深度学习来解决这个问题，所以出现了一种新的网络，叫做 Deep Q Networks，将 Q learning 和 神经网络结合在了一起，对于每一个 state，我们都可以使用神经网络来计算对应动作的值，就不在需要建立一张表格，而且网络更新比表格更新更有效率，获取结果也更加高效。\n",
    "\n",
    "![](https://ws4.sinaimg.cn/large/006tKfTcgy1fni66at6jbj30xo0g1jut.jpg)\n",
    "\n",
    "下面我们使用 open ai gym 环境中的 CartPole 来尝试实现一个简单的 DQN。"
   ]
  },
  {
   "cell_type": "code",
   "execution_count": 1,
   "metadata": {},
   "outputs": [
    {
     "name": "stderr",
     "output_type": "stream",
     "text": [
      "/usr/local/lib/python3.5/dist-packages/h5py/__init__.py:36: FutureWarning: Conversion of the second argument of issubdtype from `float` to `np.floating` is deprecated. In future, it will be treated as `np.float64 == np.dtype(float).type`.\n",
      "  from ._conv import register_converters as _register_converters\n"
     ]
    }
   ],
   "source": [
    "from __future__ import print_function\n",
    "from __future__ import division\n",
    "from __future__ import absolute_import\n",
    "\n",
    "import gym\n",
    "import numpy as np\n",
    "import tensorflow as tf"
   ]
  },
  {
   "cell_type": "markdown",
   "metadata": {},
   "source": [
    "定义一些超参数"
   ]
  },
  {
   "cell_type": "code",
   "execution_count": 2,
   "metadata": {},
   "outputs": [],
   "source": [
    "batch_size = 32\n",
    "lr = 0.01\n",
    "epsilon = 0.9\n",
    "gamma = 0.9\n",
    "target_replace_iter = 100\n",
    "memory_capacity = 2000"
   ]
  },
  {
   "cell_type": "markdown",
   "metadata": {},
   "source": [
    "在这里，我们用`CartPole`游戏作为例子给大家展示强化学习\n",
    "首先我们通过 gym.make 获得 CartPole 游戏的环境"
   ]
  },
  {
   "cell_type": "code",
   "execution_count": 3,
   "metadata": {},
   "outputs": [],
   "source": [
    "env = gym.make('CartPole-v0')"
   ]
  },
  {
   "cell_type": "markdown",
   "metadata": {},
   "source": [
    "这个游戏由一根可以水平移动的底座和可以绕轴转动的杆组成，游戏的目的就是观察杆的位置，通过操作底座水平向左或者是向右移动来让杆在屏幕范围内尽量不掉下来，非常简单的一个游戏\n",
    "<img src=\"http://7xkmdr.com1.z0.glb.clouddn.com/cp_1.gif\">"
   ]
  },
  {
   "cell_type": "markdown",
   "metadata": {},
   "source": [
    "gym 提供了可视化的过程, 我们可以大概感受一下它的难度"
   ]
  },
  {
   "cell_type": "code",
   "execution_count": 5,
   "metadata": {},
   "outputs": [
    {
     "ename": "NameError",
     "evalue": "name 'base' is not defined",
     "output_type": "error",
     "traceback": [
      "\u001b[0;31m---------------------------------------------------------------------------\u001b[0m",
      "\u001b[0;31mNameError\u001b[0m                                 Traceback (most recent call last)",
      "\u001b[0;32m<ipython-input-5-e7c996c3b1f8>\u001b[0m in \u001b[0;36m<module>\u001b[0;34m()\u001b[0m\n\u001b[1;32m      6\u001b[0m \u001b[0;32mfor\u001b[0m \u001b[0m_\u001b[0m \u001b[0;32min\u001b[0m \u001b[0mrange\u001b[0m\u001b[0;34m(\u001b[0m\u001b[0;36m100\u001b[0m\u001b[0;34m)\u001b[0m\u001b[0;34m:\u001b[0m\u001b[0;34m\u001b[0m\u001b[0m\n\u001b[1;32m      7\u001b[0m     \u001b[0;31m# 渲染动画\u001b[0m\u001b[0;34m\u001b[0m\u001b[0;34m\u001b[0m\u001b[0m\n\u001b[0;32m----> 8\u001b[0;31m     \u001b[0menv\u001b[0m\u001b[0;34m.\u001b[0m\u001b[0mrender\u001b[0m\u001b[0;34m(\u001b[0m\u001b[0;34m)\u001b[0m\u001b[0;34m\u001b[0m\u001b[0m\n\u001b[0m\u001b[1;32m      9\u001b[0m \u001b[0;34m\u001b[0m\u001b[0m\n\u001b[1;32m     10\u001b[0m     \u001b[0;31m# 随机选择一个动作\u001b[0m\u001b[0;34m\u001b[0m\u001b[0;34m\u001b[0m\u001b[0m\n",
      "\u001b[0;32m/usr/local/lib/python3.5/dist-packages/gym/core.py\u001b[0m in \u001b[0;36mrender\u001b[0;34m(self, mode, **kwargs)\u001b[0m\n\u001b[1;32m    228\u001b[0m \u001b[0;34m\u001b[0m\u001b[0m\n\u001b[1;32m    229\u001b[0m     \u001b[0;32mdef\u001b[0m \u001b[0mrender\u001b[0m\u001b[0;34m(\u001b[0m\u001b[0mself\u001b[0m\u001b[0;34m,\u001b[0m \u001b[0mmode\u001b[0m\u001b[0;34m=\u001b[0m\u001b[0;34m'human'\u001b[0m\u001b[0;34m,\u001b[0m \u001b[0;34m**\u001b[0m\u001b[0mkwargs\u001b[0m\u001b[0;34m)\u001b[0m\u001b[0;34m:\u001b[0m\u001b[0;34m\u001b[0m\u001b[0m\n\u001b[0;32m--> 230\u001b[0;31m         \u001b[0;32mreturn\u001b[0m \u001b[0mself\u001b[0m\u001b[0;34m.\u001b[0m\u001b[0menv\u001b[0m\u001b[0;34m.\u001b[0m\u001b[0mrender\u001b[0m\u001b[0;34m(\u001b[0m\u001b[0mmode\u001b[0m\u001b[0;34m,\u001b[0m \u001b[0;34m**\u001b[0m\u001b[0mkwargs\u001b[0m\u001b[0;34m)\u001b[0m\u001b[0;34m\u001b[0m\u001b[0m\n\u001b[0m\u001b[1;32m    231\u001b[0m \u001b[0;34m\u001b[0m\u001b[0m\n\u001b[1;32m    232\u001b[0m     \u001b[0;32mdef\u001b[0m \u001b[0mclose\u001b[0m\u001b[0;34m(\u001b[0m\u001b[0mself\u001b[0m\u001b[0;34m)\u001b[0m\u001b[0;34m:\u001b[0m\u001b[0;34m\u001b[0m\u001b[0m\n",
      "\u001b[0;32m/usr/local/lib/python3.5/dist-packages/gym/envs/classic_control/cartpole.py\u001b[0m in \u001b[0;36mrender\u001b[0;34m(self, mode)\u001b[0m\n\u001b[1;32m    148\u001b[0m \u001b[0;34m\u001b[0m\u001b[0m\n\u001b[1;32m    149\u001b[0m         \u001b[0;32mif\u001b[0m \u001b[0mself\u001b[0m\u001b[0;34m.\u001b[0m\u001b[0mviewer\u001b[0m \u001b[0;32mis\u001b[0m \u001b[0;32mNone\u001b[0m\u001b[0;34m:\u001b[0m\u001b[0;34m\u001b[0m\u001b[0m\n\u001b[0;32m--> 150\u001b[0;31m             \u001b[0;32mfrom\u001b[0m \u001b[0mgym\u001b[0m\u001b[0;34m.\u001b[0m\u001b[0menvs\u001b[0m\u001b[0;34m.\u001b[0m\u001b[0mclassic_control\u001b[0m \u001b[0;32mimport\u001b[0m \u001b[0mrendering\u001b[0m\u001b[0;34m\u001b[0m\u001b[0m\n\u001b[0m\u001b[1;32m    151\u001b[0m             \u001b[0mself\u001b[0m\u001b[0;34m.\u001b[0m\u001b[0mviewer\u001b[0m \u001b[0;34m=\u001b[0m \u001b[0mrendering\u001b[0m\u001b[0;34m.\u001b[0m\u001b[0mViewer\u001b[0m\u001b[0;34m(\u001b[0m\u001b[0mscreen_width\u001b[0m\u001b[0;34m,\u001b[0m \u001b[0mscreen_height\u001b[0m\u001b[0;34m)\u001b[0m\u001b[0;34m\u001b[0m\u001b[0m\n\u001b[1;32m    152\u001b[0m             \u001b[0ml\u001b[0m\u001b[0;34m,\u001b[0m\u001b[0mr\u001b[0m\u001b[0;34m,\u001b[0m\u001b[0mt\u001b[0m\u001b[0;34m,\u001b[0m\u001b[0mb\u001b[0m \u001b[0;34m=\u001b[0m \u001b[0;34m-\u001b[0m\u001b[0mcartwidth\u001b[0m\u001b[0;34m/\u001b[0m\u001b[0;36m2\u001b[0m\u001b[0;34m,\u001b[0m \u001b[0mcartwidth\u001b[0m\u001b[0;34m/\u001b[0m\u001b[0;36m2\u001b[0m\u001b[0;34m,\u001b[0m \u001b[0mcartheight\u001b[0m\u001b[0;34m/\u001b[0m\u001b[0;36m2\u001b[0m\u001b[0;34m,\u001b[0m \u001b[0;34m-\u001b[0m\u001b[0mcartheight\u001b[0m\u001b[0;34m/\u001b[0m\u001b[0;36m2\u001b[0m\u001b[0;34m\u001b[0m\u001b[0m\n",
      "\u001b[0;32m/usr/local/lib/python3.5/dist-packages/gym/envs/classic_control/rendering.py\u001b[0m in \u001b[0;36m<module>\u001b[0;34m()\u001b[0m\n\u001b[1;32m     25\u001b[0m \u001b[0;34m\u001b[0m\u001b[0m\n\u001b[1;32m     26\u001b[0m \u001b[0;32mtry\u001b[0m\u001b[0;34m:\u001b[0m\u001b[0;34m\u001b[0m\u001b[0m\n\u001b[0;32m---> 27\u001b[0;31m     \u001b[0;32mfrom\u001b[0m \u001b[0mpyglet\u001b[0m\u001b[0;34m.\u001b[0m\u001b[0mgl\u001b[0m \u001b[0;32mimport\u001b[0m \u001b[0;34m*\u001b[0m\u001b[0;34m\u001b[0m\u001b[0m\n\u001b[0m\u001b[1;32m     28\u001b[0m \u001b[0;32mexcept\u001b[0m \u001b[0mImportError\u001b[0m \u001b[0;32mas\u001b[0m \u001b[0me\u001b[0m\u001b[0;34m:\u001b[0m\u001b[0;34m\u001b[0m\u001b[0m\n\u001b[1;32m     29\u001b[0m     raise ImportError('''\n",
      "\u001b[0;32m/usr/local/lib/python3.5/dist-packages/pyglet/gl/__init__.py\u001b[0m in \u001b[0;36m<module>\u001b[0;34m()\u001b[0m\n\u001b[1;32m    225\u001b[0m     \u001b[0;32melse\u001b[0m\u001b[0;34m:\u001b[0m\u001b[0;34m\u001b[0m\u001b[0m\n\u001b[1;32m    226\u001b[0m         \u001b[0;32mfrom\u001b[0m \u001b[0;34m.\u001b[0m\u001b[0mcarbon\u001b[0m \u001b[0;32mimport\u001b[0m \u001b[0mCarbonConfig\u001b[0m \u001b[0;32mas\u001b[0m \u001b[0mConfig\u001b[0m\u001b[0;34m\u001b[0m\u001b[0m\n\u001b[0;32m--> 227\u001b[0;31m \u001b[0;32mdel\u001b[0m \u001b[0mbase\u001b[0m\u001b[0;34m\u001b[0m\u001b[0m\n\u001b[0m\u001b[1;32m    228\u001b[0m \u001b[0;34m\u001b[0m\u001b[0m\n\u001b[1;32m    229\u001b[0m \u001b[0;31m# XXX remove\u001b[0m\u001b[0;34m\u001b[0m\u001b[0;34m\u001b[0m\u001b[0m\n",
      "\u001b[0;31mNameError\u001b[0m: name 'base' is not defined"
     ]
    }
   ],
   "source": [
    "# 初始化环境\n",
    "env.reset()\n",
    "rewards = []\n",
    "\n",
    "# 玩 100 次游戏\n",
    "for _ in range(100):\n",
    "    # 渲染动画\n",
    "    env.render()\n",
    "    \n",
    "    # 随机选择一个动作\n",
    "    state, reward, done, info = env.step(env.action_space.sample()) # take a random action\n",
    "    rewards.append(reward)\n",
    "    \n",
    "    # 如果游戏结束,进入下一个\n",
    "    if done:\n",
    "        rewards = []\n",
    "        env.reset()"
   ]
  },
  {
   "cell_type": "code",
   "execution_count": 6,
   "metadata": {},
   "outputs": [],
   "source": [
    "# 关闭窗口\n",
    "env.close()"
   ]
  },
  {
   "cell_type": "markdown",
   "metadata": {},
   "source": [
    "我们可以看看这个游戏的状态数和动作数"
   ]
  },
  {
   "cell_type": "code",
   "execution_count": 7,
   "metadata": {},
   "outputs": [],
   "source": [
    "# 这一步用来方便后面处理，没有的话很多函数无法使用\n",
    "env = env.unwrapped\n",
    "n_actions = env.action_space.n\n",
    "n_states = env.observation_space.shape[0]"
   ]
  },
  {
   "cell_type": "code",
   "execution_count": 8,
   "metadata": {},
   "outputs": [
    {
     "name": "stdout",
     "output_type": "stream",
     "text": [
      "number of actions are: 2\n",
      "number of states are: 4\n"
     ]
    }
   ],
   "source": [
    "print('number of actions are: {}'.format(n_actions))\n",
    "print('number of states are: {}'.format(n_states))"
   ]
  },
  {
   "cell_type": "markdown",
   "metadata": {},
   "source": [
    "在这里，通过这里可以看到，这个环境的观测的 4 个值分别是板的位置，板的速度，杆的角度以及杆顶端的速度，我们能够采取的动作就是 2 个，分别是向左移动杆和向右移动杆。\n",
    "\n",
    "本质上，我们其实可以不用关心状态到底是什么，这些状态都可以作为神经网络的输入，输出就是每个动作的 value，可以让神经网络自己学会建立一个类似 Q 表的东西。"
   ]
  },
  {
   "cell_type": "code",
   "execution_count": 9,
   "metadata": {},
   "outputs": [],
   "source": [
    "import tensorflow.contrib.slim as slim"
   ]
  },
  {
   "cell_type": "code",
   "execution_count": 10,
   "metadata": {},
   "outputs": [],
   "source": [
    "def q_net(inputs, hidden=50, scope='q_net', reuse=None):\n",
    "    \"\"\"2层简单全连接神经网络\n",
    "    \"\"\"\n",
    "    with tf.variable_scope(scope, reuse=reuse):\n",
    "        # 我们用标准差为 0.1 的正态分布去初始化全连接层\n",
    "        with slim.arg_scope([slim.fully_connected], weights_initializer=tf.random_normal_initializer(stddev=0.1)):\n",
    "            net = slim.fully_connected(inputs, hidden, activation_fn=tf.nn.relu, scope='fc1')\n",
    "            net = slim.fully_connected(net, n_actions, activation_fn=None, scope='fc2')\n",
    "            \n",
    "            return net"
   ]
  },
  {
   "cell_type": "markdown",
   "metadata": {},
   "source": [
    "接下来我们定义一个 DQN 的过程作为一个类，在这个类中，我们会定义 dqn 的学习过程，dqn 的更新过程和之前讲个 q learning 的过程是很相同的\n",
    "\n",
    "![](https://ws1.sinaimg.cn/large/006tNc79ly1fnhl68e9spj30ek0biwfw.jpg)"
   ]
  },
  {
   "cell_type": "markdown",
   "metadata": {},
   "source": [
    "上图中有两个网络，第一个网络叫做 action-value function Q，还有一个网络叫做 target action-value $\\hat{Q}$.\n",
    "\n",
    "第一个网络可以称为 eval net，第二个网络叫做 target net。\n",
    "\n",
    "eval net 每一步都更新参数，而 target net 每过 C 步才更新一次，更新地方式是直接将 eval net 的参数复制到 target net 上。\n",
    "\n",
    "为什么要学习两个网络而不学习一个网络呢？因为 DQN 希望每次更新能够有一定的时间去探索周围的环境而得到更多的信息再来更新，在游戏中的过程是一个时间序列，所以得到的信息是有着时间依赖关系，每次都直接使用序列信息进行更新并不能得到好的结果，所以我们就采用滞后更新的方式，每隔 C 步才真正更新一次参数。\n",
    "\n",
    "DQN 的学习过程也非常简单，我们使用 eval net 作为估计动作的 value，使用 target net 得到动作实际的 value，我们希望估计的 value 能够等于实际的 value，所以可以使用 mse 来作为 loss 函数就可以了。\n",
    "\n",
    "下面我们来实现整个过程"
   ]
  },
  {
   "cell_type": "code",
   "execution_count": 11,
   "metadata": {},
   "outputs": [],
   "source": [
    "# 接受由游戏传入的状态\n",
    "input_state = tf.placeholder(tf.float32, [None, n_states,], name='input_state')\n",
    "\n",
    "# 定义 eval_net\n",
    "q_eval = q_net(input_state, scope='eval_net')\n",
    "\n",
    "# 定义 target_net\n",
    "q_next = q_net(input_state, scope='target_net')\n",
    "\n",
    "# 先定义好一个和 eval_net 输出相同的占位符，接收 Bellman Equation 的右边项\n",
    "q_target = tf.placeholder(tf.float32, [None, n_actions], name='Q_target')\n",
    "\n",
    "# 记录当前学习的步数\n",
    "learn_step_counter = 0\n",
    "\n",
    "# 定义一个状态的记忆，他可以记录之前玩过的状态和结果，帮助我们从之前玩过的游戏中学习\n",
    "# 它由4个元素构成，起始状态，采取的动作，计算的奖励，采取这个动作之后的状态\n",
    "# 状态的长度为 n_state，其余两个都是标量\n",
    "memory = np.zeros((memory_capacity, n_states * 2 + 2))\n",
    "\n",
    "# 记录需要存储的记忆下标\n",
    "memory_counter = 0"
   ]
  },
  {
   "cell_type": "markdown",
   "metadata": {},
   "source": [
    "定义`loss`"
   ]
  },
  {
   "cell_type": "code",
   "execution_count": 12,
   "metadata": {},
   "outputs": [],
   "source": [
    "with tf.variable_scope('loss'):\n",
    "    loss = tf.reduce_mean(tf.losses.mean_squared_error(q_target, q_eval))"
   ]
  },
  {
   "cell_type": "markdown",
   "metadata": {},
   "source": [
    "定义训练"
   ]
  },
  {
   "cell_type": "code",
   "execution_count": 13,
   "metadata": {},
   "outputs": [],
   "source": [
    "with tf.variable_scope('train'):\n",
    "    train_op = tf.train.RMSPropOptimizer(lr).minimize(loss)"
   ]
  },
  {
   "cell_type": "markdown",
   "metadata": {},
   "source": [
    "我们像`Q-learning`中一样，需要有一个选择动作的方法"
   ]
  },
  {
   "cell_type": "code",
   "execution_count": 14,
   "metadata": {},
   "outputs": [],
   "source": [
    "def choose_action(q_eval, s):\n",
    "    \"\"\"选择动作\n",
    "    Arguments:\n",
    "      q_eval: eval_net 输出的每个动作的 value\n",
    "      s: 当前的状态\n",
    "    Return:\n",
    "      action: 选择的动作\n",
    "    \"\"\"\n",
    "    def cond_true():\n",
    "        # 在网络输出的动作 value 中挑选最大 value 的动作\n",
    "        action = tf.argmax(q_eval, axis=-1, output_type=tf.int32, name='greedy_choice')\n",
    "        return action\n",
    "    def cond_false():\n",
    "        # 随机选择一个动作\n",
    "        action = tf.random_uniform((), minval=0, maxval=n_actions, dtype=tf.int32, name='random_choice')\n",
    "        return action\n",
    "    with tf.variable_scope('choose_action'):\n",
    "        # 贪心算法，以一定概率随机选择新动作，否则从网络输出结果中找到答案\n",
    "        dice = tf.random_uniform((), minval=0, maxval=1, dtype=tf.float32, name='dice')\n",
    "        action = tf.cond(tf.less(dice, epsilon), cond_true, cond_false, name='action')\n",
    "    \n",
    "    return action"
   ]
  },
  {
   "cell_type": "code",
   "execution_count": 15,
   "metadata": {
    "scrolled": true
   },
   "outputs": [],
   "source": [
    "chosen_action = choose_action(q_eval, input_state)"
   ]
  },
  {
   "cell_type": "markdown",
   "metadata": {},
   "source": [
    "在`DQN`算法中，我们需要存储过去的记忆，以便于后面的学习"
   ]
  },
  {
   "cell_type": "code",
   "execution_count": 16,
   "metadata": {},
   "outputs": [],
   "source": [
    "def store_transition(s, a, r, s_):\n",
    "    \"\"\"存储记忆\n",
    "    Arguments:\n",
    "      s: 当前状态\n",
    "      a: 采取的动作\n",
    "      r: 采取动作后的奖励\n",
    "      s_: 采取动作后的状态\n",
    "    \"\"\"\n",
    "    # 通过`global`关键字改变全局变量的值\n",
    "    global memory, memory_counter\n",
    "    \n",
    "    # 将参数整合成一个记忆\n",
    "    transition = np.hstack((s, [a, r], s_))\n",
    "    \n",
    "    # 采用循环替代的方法避免记忆过多历史\n",
    "    index = memory_counter % memory_capacity\n",
    "    \n",
    "    # 将当前记忆写入总记忆中\n",
    "    memory[index, :] = transition\n",
    "    memory_counter += 1"
   ]
  },
  {
   "cell_type": "markdown",
   "metadata": {},
   "source": [
    "前面说到，我们需要间隔一定的步长将一直在更新的`eval_net`网络参数值赋值给`target_net`对应网络参数，相当于是手动更新`target_net`网络参数，在这里，我们就利用名称替换的方法去定义这样一个更新操作"
   ]
  },
  {
   "cell_type": "code",
   "execution_count": 17,
   "metadata": {},
   "outputs": [],
   "source": [
    "# 找到所有需要更新的 target_net 网络参数\n",
    "target_net_params = tf.model_variables('target_net')"
   ]
  },
  {
   "cell_type": "code",
   "execution_count": 18,
   "metadata": {},
   "outputs": [],
   "source": [
    "def update(target_net_params, graph, target_net_scope='target_net', eval_net_scope='eval_net'):\n",
    "    \"\"\"更新`target_net`参数\n",
    "    Arguments:\n",
    "      target_net_params: target_net 所有网络参数列表\n",
    "      graph: 当前的 tf 图\n",
    "      target_net_scope: target_net 网络参数的参数域\n",
    "      eval_net_scope: eval_net 网络参数的参数域\n",
    "    Return:\n",
    "      update_op: 更新 op\n",
    "    \"\"\"\n",
    "    update_ops = []\n",
    "    with tf.variable_scope('update_target'):\n",
    "        for var in target_net_params:\n",
    "            # 用 eval_net_scope 去代替 target_net_params 的参数名称\n",
    "            eval_var_name = var.name.replace(target_net_scope, eval_net_scope)\n",
    "            \n",
    "            # 通过 graph 来获得 eval_net 对应变量\n",
    "            eval_var = graph.get_tensor_by_name(eval_var_name)\n",
    "            \n",
    "            # 用 eval_var 去更新 var\n",
    "            update_ops.append(var.assign(eval_var))\n",
    "            \n",
    "        update_op = tf.group(*update_ops, name='update_target')\n",
    "    \n",
    "    return update_op"
   ]
  },
  {
   "cell_type": "code",
   "execution_count": 19,
   "metadata": {},
   "outputs": [],
   "source": [
    "# 获得当前默认图\n",
    "graph = tf.get_default_graph()\n",
    "update_op = update(target_net_params, graph)"
   ]
  },
  {
   "cell_type": "markdown",
   "metadata": {},
   "source": [
    "下面来到我们最关键的学习环节，整个学习过程在之前大家应该有了一个初步的印象，就是希望`eval_net`能够像`Q-table`一样模拟出在当前状态下采取某个动作的`Q`值，也就是 $eval\\_net(state)=r+\\gamma\\ max(target\\_net(next\\_state))$. \n",
    "\n",
    "我们要做的就是从记忆中抽取一些经历，每个经历都有起始状态，采取的动作，获得的奖励，下一个状态。如果我们对每一个经历都能够使得上面的等式近似成立就完成目标了。\n",
    "\n",
    "这里有一个小细节，每一段经历中只有一个动作，而我们`eval_net`的输出的是所有动作的`Q`值，因此在学习的过程中我们默认其他动作都是完全正确的，只更新这一个动作。"
   ]
  },
  {
   "cell_type": "code",
   "execution_count": 20,
   "metadata": {},
   "outputs": [],
   "source": [
    "def learn(sess, input_state, q_eval, q_next, q_target, train_op, loss_op, update_target_op):\n",
    "    global learn_step_counter\n",
    "    \n",
    "    # 间隔步数将 eval_net 的参数复制到 target_net 上\n",
    "    if learn_step_counter % target_replace_iter == 0:\n",
    "        sess.run(update_target_op)\n",
    "    learn_step_counter += 1\n",
    "    \n",
    "    # 随机从记忆中抽取经历\n",
    "    sample_index = np.random.choice(memory_capacity, batch_size)\n",
    "    b_memory = memory[sample_index, :]\n",
    "    \n",
    "    # 当前步状态\n",
    "    b_s = b_memory[:, :n_states]\n",
    "    \n",
    "    # 当前采取的动作\n",
    "    b_a = b_memory[:, n_states].astype(np.int32)\n",
    "    \n",
    "    # 当前采取动作后的奖励\n",
    "    b_r = b_memory[:, n_states + 1]\n",
    "    \n",
    "    # 采取动作后的状态\n",
    "    b_s_ = b_memory[:, -n_states:]\n",
    "    \n",
    "    # 用 eval_net 评估当前动作后所有可能动作的 Q 值\n",
    "    q_eval_values = sess.run(q_eval, feed_dict={input_state: b_s})\n",
    "    \n",
    "    # 复制 q_eval_values 到 q_target_values 中\n",
    "    # 此时 q_target 和 q_eval 完全相等\n",
    "    q_target_values = q_eval_values.copy()\n",
    "    \n",
    "    # 用 target_net 获得下一个状态所有可能动作的 Q 值\n",
    "    q_next_values = sess.run(q_next, feed_dict={input_state: b_s_})\n",
    "    \n",
    "    # 依据 Bellman Equation 建立 q_target 在记忆中动作 b_a下的值\n",
    "    \n",
    "    batch_indices = np.arange(batch_size)\n",
    "    q_target_values[batch_indices, b_a] = b_r + gamma * q_next_values.max(1)\n",
    "    \n",
    "    # 反向传播\n",
    "    _, this_loss = sess.run([train_op, loss_op], feed_dict={q_target: q_target_values, input_state: b_s})\n",
    "    \n",
    "    return this_loss"
   ]
  },
  {
   "cell_type": "markdown",
   "metadata": {},
   "source": [
    "下面开始训练这个`agent`"
   ]
  },
  {
   "cell_type": "code",
   "execution_count": 21,
   "metadata": {},
   "outputs": [],
   "source": [
    "sess = tf.Session()\n",
    "sess.run(tf.global_variables_initializer())"
   ]
  },
  {
   "cell_type": "code",
   "execution_count": 22,
   "metadata": {
    "scrolled": false
   },
   "outputs": [
    {
     "name": "stdout",
     "output_type": "stream",
     "text": [
      "collecting experience ...\n",
      "Ep: 60 | reward: 6.148\n",
      "Ep: 61 | reward: 47.560\n",
      "Ep: 62 | reward: 54.196\n",
      "Ep: 63 | reward: 46.928\n",
      "Ep: 64 | reward: 32.189\n",
      "Ep: 65 | reward: 140.913\n",
      "Ep: 66 | reward: 125.608\n",
      "Ep: 67 | reward: 511.331\n",
      "Ep: 68 | reward: 84.113\n",
      "Ep: 69 | reward: 52.731\n",
      "Ep: 70 | reward: 148.854\n",
      "Ep: 71 | reward: 110.133\n",
      "Ep: 72 | reward: 92.012\n",
      "Ep: 73 | reward: 240.542\n",
      "Ep: 74 | reward: 113.561\n",
      "Ep: 75 | reward: 65.462\n",
      "Ep: 76 | reward: 94.513\n",
      "Ep: 77 | reward: 100.471\n",
      "Ep: 78 | reward: 214.232\n",
      "Ep: 79 | reward: 55.808\n",
      "Ep: 80 | reward: 119.773\n",
      "Ep: 81 | reward: 684.125\n",
      "Ep: 82 | reward: 166.297\n",
      "Ep: 83 | reward: 311.433\n",
      "Ep: 84 | reward: 310.393\n",
      "Ep: 85 | reward: 228.189\n",
      "Ep: 86 | reward: 206.277\n",
      "Ep: 87 | reward: 393.544\n",
      "Ep: 88 | reward: 126.985\n",
      "Ep: 89 | reward: 644.794\n",
      "Ep: 90 | reward: 331.352\n",
      "Ep: 91 | reward: 132.168\n",
      "Ep: 92 | reward: 301.265\n",
      "Ep: 93 | reward: 174.950\n",
      "Ep: 94 | reward: 192.934\n",
      "Ep: 95 | reward: 134.680\n",
      "Ep: 96 | reward: 207.271\n",
      "Ep: 97 | reward: 363.155\n",
      "Ep: 98 | reward: 407.869\n",
      "Ep: 99 | reward: 154.020\n",
      "Ep: 100 | reward: 433.290\n",
      "Ep: 101 | reward: 173.749\n",
      "Ep: 102 | reward: 186.235\n",
      "Ep: 103 | reward: 235.680\n",
      "Ep: 104 | reward: 144.206\n",
      "Ep: 105 | reward: 152.834\n",
      "Ep: 106 | reward: 396.277\n",
      "Ep: 107 | reward: 127.423\n",
      "Ep: 108 | reward: 305.232\n",
      "Ep: 109 | reward: 142.863\n",
      "Ep: 110 | reward: 460.320\n",
      "Ep: 111 | reward: 758.438\n",
      "Ep: 112 | reward: 157.941\n",
      "Ep: 113 | reward: 318.045\n",
      "Ep: 114 | reward: 430.302\n",
      "Ep: 115 | reward: 144.263\n",
      "Ep: 116 | reward: 81.881\n",
      "Ep: 117 | reward: 499.099\n",
      "Ep: 118 | reward: 195.725\n",
      "Ep: 119 | reward: 313.148\n",
      "Ep: 120 | reward: 527.326\n",
      "Ep: 121 | reward: 157.231\n",
      "Ep: 122 | reward: 810.721\n",
      "Ep: 123 | reward: 237.391\n",
      "Ep: 124 | reward: 157.869\n",
      "Ep: 125 | reward: 240.158\n",
      "Ep: 126 | reward: 319.732\n",
      "Ep: 127 | reward: 139.658\n",
      "Ep: 128 | reward: 138.605\n",
      "Ep: 129 | reward: 150.878\n",
      "Ep: 130 | reward: 136.615\n",
      "Ep: 131 | reward: 465.981\n",
      "Ep: 132 | reward: 560.947\n",
      "Ep: 133 | reward: 874.084\n",
      "Ep: 134 | reward: 219.182\n",
      "Ep: 135 | reward: 1322.515\n",
      "Ep: 136 | reward: 722.895\n",
      "Ep: 137 | reward: 232.885\n",
      "Ep: 138 | reward: 406.653\n",
      "Ep: 139 | reward: 195.786\n",
      "Ep: 140 | reward: 216.046\n",
      "Ep: 141 | reward: 578.911\n",
      "Ep: 142 | reward: 831.083\n",
      "Ep: 143 | reward: 265.394\n",
      "Ep: 144 | reward: 207.675\n",
      "Ep: 145 | reward: 583.455\n",
      "Ep: 146 | reward: 742.955\n",
      "Ep: 147 | reward: 1151.542\n",
      "Ep: 148 | reward: 987.634\n",
      "Ep: 149 | reward: 869.972\n",
      "Ep: 150 | reward: 837.804\n",
      "Ep: 151 | reward: 1537.182\n",
      "Ep: 152 | reward: 809.057\n",
      "Ep: 153 | reward: 652.214\n",
      "Ep: 154 | reward: 572.679\n",
      "Ep: 155 | reward: 434.944\n",
      "Ep: 156 | reward: 322.210\n",
      "Ep: 157 | reward: 394.877\n",
      "Ep: 158 | reward: 190.109\n",
      "Ep: 159 | reward: 1345.464\n",
      "Ep: 160 | reward: 373.520\n",
      "Ep: 161 | reward: 1112.388\n",
      "Ep: 162 | reward: 154.654\n",
      "Ep: 163 | reward: 196.204\n",
      "Ep: 164 | reward: 268.000\n",
      "Ep: 165 | reward: 389.462\n",
      "Ep: 166 | reward: 968.092\n",
      "Ep: 167 | reward: 635.877\n",
      "Ep: 168 | reward: 334.319\n",
      "Ep: 169 | reward: 170.621\n",
      "Ep: 170 | reward: 372.148\n",
      "Ep: 171 | reward: 309.978\n",
      "Ep: 172 | reward: 308.460\n",
      "Ep: 173 | reward: 184.088\n",
      "Ep: 174 | reward: 79.425\n",
      "Ep: 175 | reward: 744.994\n",
      "Ep: 176 | reward: 210.323\n",
      "Ep: 177 | reward: 234.985\n",
      "Ep: 178 | reward: 523.942\n",
      "Ep: 179 | reward: 420.050\n",
      "Ep: 180 | reward: 199.478\n",
      "Ep: 181 | reward: 636.428\n",
      "Ep: 182 | reward: 1415.909\n",
      "Ep: 183 | reward: 330.741\n",
      "Ep: 184 | reward: 555.140\n",
      "Ep: 185 | reward: 1447.781\n",
      "Ep: 186 | reward: 1089.585\n",
      "Ep: 187 | reward: 171.714\n",
      "Ep: 188 | reward: 688.861\n",
      "Ep: 189 | reward: 853.071\n",
      "Ep: 190 | reward: 333.635\n",
      "Ep: 191 | reward: 107.312\n",
      "Ep: 192 | reward: 690.085\n",
      "Ep: 193 | reward: 1554.535\n",
      "Ep: 194 | reward: 449.894\n",
      "Ep: 195 | reward: 505.525\n",
      "Ep: 196 | reward: 1043.633\n",
      "Ep: 197 | reward: 227.268\n",
      "Ep: 198 | reward: 165.963\n",
      "Ep: 199 | reward: 281.149\n",
      "Ep: 200 | reward: 652.583\n",
      "Ep: 201 | reward: 173.918\n",
      "Ep: 202 | reward: 184.900\n",
      "Ep: 203 | reward: 650.108\n",
      "Ep: 204 | reward: 1144.295\n",
      "Ep: 205 | reward: 354.840\n",
      "Ep: 206 | reward: 865.729\n",
      "Ep: 207 | reward: 826.833\n",
      "Ep: 208 | reward: 459.263\n",
      "Ep: 209 | reward: 978.328\n",
      "Ep: 210 | reward: 596.590\n",
      "Ep: 211 | reward: 393.749\n",
      "Ep: 212 | reward: 272.528\n",
      "Ep: 213 | reward: 758.892\n",
      "Ep: 214 | reward: 879.980\n",
      "Ep: 215 | reward: 396.524\n",
      "Ep: 216 | reward: 492.734\n",
      "Ep: 217 | reward: 193.189\n",
      "Ep: 218 | reward: 348.866\n",
      "Ep: 219 | reward: 1243.210\n",
      "Ep: 220 | reward: 149.714\n",
      "Ep: 221 | reward: 1146.563\n",
      "Ep: 222 | reward: 440.225\n",
      "Ep: 223 | reward: 180.877\n",
      "Ep: 224 | reward: 634.025\n",
      "Ep: 225 | reward: 114.632\n",
      "Ep: 226 | reward: 781.093\n",
      "Ep: 227 | reward: 739.541\n",
      "Ep: 228 | reward: 1011.161\n",
      "Ep: 229 | reward: 869.429\n",
      "Ep: 230 | reward: 871.778\n",
      "Ep: 231 | reward: 340.849\n",
      "Ep: 232 | reward: 752.383\n",
      "Ep: 233 | reward: 251.363\n",
      "Ep: 234 | reward: 841.036\n",
      "Ep: 235 | reward: 410.013\n",
      "Ep: 236 | reward: 223.387\n",
      "Ep: 237 | reward: 1325.139\n",
      "Ep: 238 | reward: 955.626\n",
      "Ep: 239 | reward: 802.224\n",
      "Ep: 240 | reward: 391.363\n",
      "Ep: 241 | reward: 134.498\n",
      "Ep: 242 | reward: 264.108\n",
      "Ep: 243 | reward: 121.994\n",
      "Ep: 244 | reward: 278.135\n",
      "Ep: 245 | reward: 269.355\n",
      "Ep: 246 | reward: 249.876\n",
      "Ep: 247 | reward: 274.075\n",
      "Ep: 248 | reward: 566.684\n",
      "Ep: 249 | reward: 599.539\n",
      "Ep: 250 | reward: 819.880\n",
      "Ep: 251 | reward: 1228.333\n",
      "Ep: 252 | reward: 135.743\n",
      "Ep: 253 | reward: 1388.687\n",
      "Ep: 254 | reward: 225.925\n",
      "Ep: 255 | reward: 701.546\n",
      "Ep: 256 | reward: 349.513\n",
      "Ep: 257 | reward: 172.101\n",
      "Ep: 258 | reward: 163.840\n",
      "Ep: 259 | reward: 718.823\n",
      "Ep: 260 | reward: 324.876\n",
      "Ep: 261 | reward: 301.261\n",
      "Ep: 262 | reward: 975.128\n",
      "Ep: 263 | reward: 205.741\n",
      "Ep: 264 | reward: 287.140\n",
      "Ep: 265 | reward: 114.429\n",
      "Ep: 266 | reward: 143.354\n",
      "Ep: 267 | reward: 1267.050\n",
      "Ep: 268 | reward: 885.704\n",
      "Ep: 269 | reward: 410.521\n",
      "Ep: 270 | reward: 343.677\n",
      "Ep: 271 | reward: 576.431\n",
      "Ep: 272 | reward: 214.470\n",
      "Ep: 273 | reward: 237.940\n",
      "Ep: 274 | reward: 175.436\n",
      "Ep: 275 | reward: 275.442\n",
      "Ep: 276 | reward: 343.863\n",
      "Ep: 277 | reward: 100.487\n",
      "Ep: 278 | reward: 324.239\n",
      "Ep: 279 | reward: 645.984\n",
      "Ep: 280 | reward: 476.380\n",
      "Ep: 281 | reward: 1126.483\n",
      "Ep: 282 | reward: 814.043\n",
      "Ep: 283 | reward: 704.170\n",
      "Ep: 284 | reward: 174.065\n",
      "Ep: 285 | reward: 380.400\n",
      "Ep: 286 | reward: 194.827\n",
      "Ep: 287 | reward: 980.988\n",
      "Ep: 288 | reward: 349.680\n",
      "Ep: 289 | reward: 836.952\n",
      "Ep: 290 | reward: 262.618\n",
      "Ep: 291 | reward: 464.616\n",
      "Ep: 292 | reward: 795.284\n",
      "Ep: 293 | reward: 516.457\n",
      "Ep: 294 | reward: 930.733\n",
      "Ep: 295 | reward: 254.017\n",
      "Ep: 296 | reward: 233.671\n",
      "Ep: 297 | reward: 1074.782\n",
      "Ep: 298 | reward: 1222.393\n",
      "Ep: 299 | reward: 1656.662\n"
     ]
    }
   ],
   "source": [
    "print('collecting experience ...')\n",
    "all_reward = []\n",
    "for i_episode in range(300):\n",
    "    s = env.reset()\n",
    "    reward = 0\n",
    "    while True:\n",
    "        # 获取当前状态随机选择的动作\n",
    "        a = sess.run(chosen_action, feed_dict={input_state: [s]})\n",
    "        a = np.squeeze(a)\n",
    "        \n",
    "        # 环境采取动作得到的结果\n",
    "        s_, r, done, info = env.step(a)\n",
    "        \n",
    "        # 修改奖励以便更快收敛\n",
    "        x, x_dot, theta, theta_dot = s_\n",
    "        r1 = (env.x_threshold - abs(x)) / env.x_threshold - 0.8\n",
    "        r2 = (env.theta_threshold_radians - abs(theta)) / env.theta_threshold_radians - 0.5\n",
    "        r = r1 + r2\n",
    "        \n",
    "        # 存储记忆\n",
    "        store_transition(s, a, r, s_)\n",
    "        \n",
    "        reward += r\n",
    "        \n",
    "        # 记忆收集足够开始学习\n",
    "        if memory_counter > memory_capacity:\n",
    "            # 下面这一行可以实时看到训练过程中,我们的 agent 是如何一步步进步的\n",
    "            # 但是耗时非常长,如果感兴趣的话可以取消下面这一行的注释\n",
    "            # env.render()\n",
    "            this_loss = learn(sess, input_state, q_eval, q_next, q_target, train_op, loss, update_op)\n",
    "            if done:\n",
    "                print('Ep: {} | reward: {:.3f}'.format(i_episode, round(reward, 3)))\n",
    "                all_reward.append(reward)\n",
    "                break\n",
    "\n",
    "        if done:\n",
    "            break\n",
    "        s = s_"
   ]
  },
  {
   "cell_type": "markdown",
   "metadata": {},
   "source": [
    "接着我们看一下`loss`曲线的变化"
   ]
  },
  {
   "cell_type": "code",
   "execution_count": 23,
   "metadata": {},
   "outputs": [],
   "source": [
    "import matplotlib.pyplot as plt\n",
    "%matplotlib inline"
   ]
  },
  {
   "cell_type": "code",
   "execution_count": 24,
   "metadata": {},
   "outputs": [
    {
     "data": {
      "text/plain": [
       "[<matplotlib.lines.Line2D at 0x7fd2082c8c18>]"
      ]
     },
     "execution_count": 24,
     "metadata": {},
     "output_type": "execute_result"
    },
    {
     "data": {
      "image/png": "[encoded data removed]",
      "text/plain": [
       "<Figure size 432x288 with 1 Axes>"
      ]
     },
     "metadata": {},
     "output_type": "display_data"
    }
   ],
   "source": [
    "plt.plot(all_reward)"
   ]
  },
  {
   "cell_type": "markdown",
   "metadata": {},
   "source": [
    "我们画出 reward 的曲线，可以发现奖励在不断变多，说明我们的 agent 学得越来越好\n",
    "\n",
    "最后我们再来看看`agent`通过训练后的游戏水平吧"
   ]
  },
  {
   "cell_type": "code",
   "execution_count": 25,
   "metadata": {},
   "outputs": [
    {
     "ename": "NameError",
     "evalue": "name 'base' is not defined",
     "output_type": "error",
     "traceback": [
      "\u001b[0;31m---------------------------------------------------------------------------\u001b[0m",
      "\u001b[0;31mNameError\u001b[0m                                 Traceback (most recent call last)",
      "\u001b[0;32m<ipython-input-25-b02d80a51cb1>\u001b[0m in \u001b[0;36m<module>\u001b[0;34m()\u001b[0m\n\u001b[1;32m      2\u001b[0m \u001b[0mreward\u001b[0m \u001b[0;34m=\u001b[0m \u001b[0;36m0\u001b[0m\u001b[0;34m\u001b[0m\u001b[0m\n\u001b[1;32m      3\u001b[0m \u001b[0;32mwhile\u001b[0m \u001b[0;32mTrue\u001b[0m\u001b[0;34m:\u001b[0m\u001b[0;34m\u001b[0m\u001b[0m\n\u001b[0;32m----> 4\u001b[0;31m     \u001b[0menv\u001b[0m\u001b[0;34m.\u001b[0m\u001b[0mrender\u001b[0m\u001b[0;34m(\u001b[0m\u001b[0;34m)\u001b[0m\u001b[0;34m\u001b[0m\u001b[0m\n\u001b[0m\u001b[1;32m      5\u001b[0m     \u001b[0;31m# 通过 q_next 获得当前状态下所有动作的 Q 值\u001b[0m\u001b[0;34m\u001b[0m\u001b[0;34m\u001b[0m\u001b[0m\n\u001b[1;32m      6\u001b[0m     \u001b[0mQs\u001b[0m \u001b[0;34m=\u001b[0m \u001b[0msess\u001b[0m\u001b[0;34m.\u001b[0m\u001b[0mrun\u001b[0m\u001b[0;34m(\u001b[0m\u001b[0mq_next\u001b[0m\u001b[0;34m,\u001b[0m \u001b[0mfeed_dict\u001b[0m\u001b[0;34m=\u001b[0m\u001b[0;34m{\u001b[0m\u001b[0minput_state\u001b[0m\u001b[0;34m:\u001b[0m \u001b[0;34m[\u001b[0m\u001b[0ms\u001b[0m\u001b[0;34m]\u001b[0m\u001b[0;34m}\u001b[0m\u001b[0;34m)\u001b[0m\u001b[0;34m\u001b[0m\u001b[0m\n",
      "\u001b[0;32m/usr/local/lib/python3.5/dist-packages/gym/envs/classic_control/cartpole.py\u001b[0m in \u001b[0;36mrender\u001b[0;34m(self, mode)\u001b[0m\n\u001b[1;32m    148\u001b[0m \u001b[0;34m\u001b[0m\u001b[0m\n\u001b[1;32m    149\u001b[0m         \u001b[0;32mif\u001b[0m \u001b[0mself\u001b[0m\u001b[0;34m.\u001b[0m\u001b[0mviewer\u001b[0m \u001b[0;32mis\u001b[0m \u001b[0;32mNone\u001b[0m\u001b[0;34m:\u001b[0m\u001b[0;34m\u001b[0m\u001b[0m\n\u001b[0;32m--> 150\u001b[0;31m             \u001b[0;32mfrom\u001b[0m \u001b[0mgym\u001b[0m\u001b[0;34m.\u001b[0m\u001b[0menvs\u001b[0m\u001b[0;34m.\u001b[0m\u001b[0mclassic_control\u001b[0m \u001b[0;32mimport\u001b[0m \u001b[0mrendering\u001b[0m\u001b[0;34m\u001b[0m\u001b[0m\n\u001b[0m\u001b[1;32m    151\u001b[0m             \u001b[0mself\u001b[0m\u001b[0;34m.\u001b[0m\u001b[0mviewer\u001b[0m \u001b[0;34m=\u001b[0m \u001b[0mrendering\u001b[0m\u001b[0;34m.\u001b[0m\u001b[0mViewer\u001b[0m\u001b[0;34m(\u001b[0m\u001b[0mscreen_width\u001b[0m\u001b[0;34m,\u001b[0m \u001b[0mscreen_height\u001b[0m\u001b[0;34m)\u001b[0m\u001b[0;34m\u001b[0m\u001b[0m\n\u001b[1;32m    152\u001b[0m             \u001b[0ml\u001b[0m\u001b[0;34m,\u001b[0m\u001b[0mr\u001b[0m\u001b[0;34m,\u001b[0m\u001b[0mt\u001b[0m\u001b[0;34m,\u001b[0m\u001b[0mb\u001b[0m \u001b[0;34m=\u001b[0m \u001b[0;34m-\u001b[0m\u001b[0mcartwidth\u001b[0m\u001b[0;34m/\u001b[0m\u001b[0;36m2\u001b[0m\u001b[0;34m,\u001b[0m \u001b[0mcartwidth\u001b[0m\u001b[0;34m/\u001b[0m\u001b[0;36m2\u001b[0m\u001b[0;34m,\u001b[0m \u001b[0mcartheight\u001b[0m\u001b[0;34m/\u001b[0m\u001b[0;36m2\u001b[0m\u001b[0;34m,\u001b[0m \u001b[0;34m-\u001b[0m\u001b[0mcartheight\u001b[0m\u001b[0;34m/\u001b[0m\u001b[0;36m2\u001b[0m\u001b[0;34m\u001b[0m\u001b[0m\n",
      "\u001b[0;32m/usr/local/lib/python3.5/dist-packages/gym/envs/classic_control/rendering.py\u001b[0m in \u001b[0;36m<module>\u001b[0;34m()\u001b[0m\n\u001b[1;32m     25\u001b[0m \u001b[0;34m\u001b[0m\u001b[0m\n\u001b[1;32m     26\u001b[0m \u001b[0;32mtry\u001b[0m\u001b[0;34m:\u001b[0m\u001b[0;34m\u001b[0m\u001b[0m\n\u001b[0;32m---> 27\u001b[0;31m     \u001b[0;32mfrom\u001b[0m \u001b[0mpyglet\u001b[0m\u001b[0;34m.\u001b[0m\u001b[0mgl\u001b[0m \u001b[0;32mimport\u001b[0m \u001b[0;34m*\u001b[0m\u001b[0;34m\u001b[0m\u001b[0m\n\u001b[0m\u001b[1;32m     28\u001b[0m \u001b[0;32mexcept\u001b[0m \u001b[0mImportError\u001b[0m \u001b[0;32mas\u001b[0m \u001b[0me\u001b[0m\u001b[0;34m:\u001b[0m\u001b[0;34m\u001b[0m\u001b[0m\n\u001b[1;32m     29\u001b[0m     raise ImportError('''\n",
      "\u001b[0;32m/usr/local/lib/python3.5/dist-packages/pyglet/gl/__init__.py\u001b[0m in \u001b[0;36m<module>\u001b[0;34m()\u001b[0m\n\u001b[1;32m    225\u001b[0m     \u001b[0;32melse\u001b[0m\u001b[0;34m:\u001b[0m\u001b[0;34m\u001b[0m\u001b[0m\n\u001b[1;32m    226\u001b[0m         \u001b[0;32mfrom\u001b[0m \u001b[0;34m.\u001b[0m\u001b[0mcarbon\u001b[0m \u001b[0;32mimport\u001b[0m \u001b[0mCarbonConfig\u001b[0m \u001b[0;32mas\u001b[0m \u001b[0mConfig\u001b[0m\u001b[0;34m\u001b[0m\u001b[0m\n\u001b[0;32m--> 227\u001b[0;31m \u001b[0;32mdel\u001b[0m \u001b[0mbase\u001b[0m\u001b[0;34m\u001b[0m\u001b[0m\n\u001b[0m\u001b[1;32m    228\u001b[0m \u001b[0;34m\u001b[0m\u001b[0m\n\u001b[1;32m    229\u001b[0m \u001b[0;31m# XXX remove\u001b[0m\u001b[0;34m\u001b[0m\u001b[0;34m\u001b[0m\u001b[0m\n",
      "\u001b[0;31mNameError\u001b[0m: name 'base' is not defined"
     ]
    }
   ],
   "source": [
    "s = env.reset()\n",
    "reward = 0\n",
    "while True:\n",
    "    env.render()\n",
    "    # 通过 q_next 获得当前状态下所有动作的 Q 值\n",
    "    Qs = sess.run(q_next, feed_dict={input_state: [s]})\n",
    "    \n",
    "    # 获得最大 value 的 action\n",
    "    action = np.argmax(Qs)\n",
    "\n",
    "    # 环境采取动作得到的结果\n",
    "    s_, r, done, info = env.step(action)\n",
    "    \n",
    "    reward += r\n",
    "    \n",
    "    if done:\n",
    "        break\n",
    "        \n",
    "    s = s_\n",
    "    \n",
    "print('agent rewad: {:.3f}'.format(reward))"
   ]
  },
  {
   "cell_type": "code",
   "execution_count": 26,
   "metadata": {},
   "outputs": [
    {
     "ename": "TypeError",
     "evalue": "render() got an unexpected keyword argument 'close'",
     "output_type": "error",
     "traceback": [
      "\u001b[0;31m---------------------------------------------------------------------------\u001b[0m",
      "\u001b[0;31mTypeError\u001b[0m                                 Traceback (most recent call last)",
      "\u001b[0;32m<ipython-input-26-775de56d6ae9>\u001b[0m in \u001b[0;36m<module>\u001b[0;34m()\u001b[0m\n\u001b[0;32m----> 1\u001b[0;31m \u001b[0menv\u001b[0m\u001b[0;34m.\u001b[0m\u001b[0mrender\u001b[0m\u001b[0;34m(\u001b[0m\u001b[0mclose\u001b[0m\u001b[0;34m=\u001b[0m\u001b[0;32mTrue\u001b[0m\u001b[0;34m)\u001b[0m\u001b[0;34m\u001b[0m\u001b[0m\n\u001b[0m",
      "\u001b[0;31mTypeError\u001b[0m: render() got an unexpected keyword argument 'close'"
     ]
    }
   ],
   "source": [
    "env.render(close=True)"
   ]
  },
  {
   "cell_type": "code",
   "execution_count": null,
   "metadata": {},
   "outputs": [],
   "source": []
  }
 ],
 "metadata": {
  "kernelspec": {
   "display_name": "Python 2",
   "language": "python",
   "name": "python2"
  },
  "language_info": {
   "codemirror_mode": {
    "name": "ipython",
    "version": 3
   },
   "file_extension": ".py",
   "mimetype": "text/x-python",
   "name": "python",
   "nbconvert_exporter": "python",
   "pygments_lexer": "ipython3",
   "version": "3.5.2"
  }
 },
 "nbformat": 4,
 "nbformat_minor": 2
}
