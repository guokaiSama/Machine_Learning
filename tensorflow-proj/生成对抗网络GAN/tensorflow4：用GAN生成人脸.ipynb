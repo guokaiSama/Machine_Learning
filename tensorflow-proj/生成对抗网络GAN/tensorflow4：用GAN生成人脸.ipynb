{
 "cells": [
  {
   "cell_type": "markdown",
   "metadata": {},
   "source": [
    "## DCGAN 生成人脸\n",
    "在这个项目中，我们会使用前面学到的深度卷积生成对抗网络来生成人脸，使用 CalebA 人脸数据集，一共有202599张人脸图片。"
   ]
  },
  {
   "cell_type": "markdown",
   "metadata": {},
   "source": [
    "首先我们导入需要的库"
   ]
  },
  {
   "cell_type": "code",
   "execution_count": null,
   "metadata": {},
   "outputs": [],
   "source": [
    "# -*- coding:utf-8 -*-\n",
    "from __future__ import print_function, division, absolute_import\n",
    "\n",
    "import tensorflow as tf\n",
    "import tensorflow.contrib.slim as slim\n",
    "\n",
    "import numpy as np\n",
    "\n",
    "import matplotlib.pyplot as plt\n",
    "import matplotlib.gridspec as gridspec\n",
    "from utils import read, preprocess, deprocess, show_images\n",
    "\n",
    "%matplotlib inline\n",
    "plt.rcParams['figure.figsize'] = (10.0, 8.0) # 设置画图的尺寸\n",
    "plt.rcParams['image.interpolation'] = 'nearest'"
   ]
  },
  {
   "cell_type": "markdown",
   "metadata": {},
   "source": [
    "下面我们可视化一张图片看看"
   ]
  },
  {
   "cell_type": "code",
   "execution_count": null,
   "metadata": {},
   "outputs": [],
   "source": [
    "from PIL import Image\n",
    "im = Image.open('./dataset/img_align_celeba/000001.jpg')\n",
    "im"
   ]
  },
  {
   "cell_type": "markdown",
   "metadata": {},
   "source": [
    "可以看到在这张图片上，人脸只占中心的部分，所以我们会做一个预处理，取出图片中心的人脸图像，然后 resize 到 (28, 28) 的大小\n",
    "\n",
    "下面我们取出一个 batch_size 的图像进行可视化"
   ]
  },
  {
   "cell_type": "code",
   "execution_count": null,
   "metadata": {},
   "outputs": [],
   "source": [
    "# 可以调整的超参数\n",
    "batch_size = 32\n",
    "NOISE_DIM = 96\n",
    "epochs = 30\n",
    "\n",
    "# ========不要修改下面的部分========\n",
    "\n",
    "train_data = read('./dataset/img_align_celeba/', batch_size=batch_size, shuffle=True)\n",
    "\n",
    "true_imgs = tf.map_fn(lambda img: deprocess(img), train_data)"
   ]
  },
  {
   "cell_type": "code",
   "execution_count": null,
   "metadata": {},
   "outputs": [],
   "source": [
    "with tf.Session() as sess:\n",
    "    haha = sess.run(true_imgs)\n",
    "\n",
    "    show_images(haha)"
   ]
  },
  {
   "cell_type": "markdown",
   "metadata": {},
   "source": [
    "## 建立模型\n",
    "完成代码中的#todo部分就可以了"
   ]
  },
  {
   "cell_type": "markdown",
   "metadata": {},
   "source": [
    "### 构建输入"
   ]
  },
  {
   "cell_type": "code",
   "execution_count": null,
   "metadata": {},
   "outputs": [],
   "source": [
    "def build_inputs(batch_size, noise_dim):\n",
    "    #todo: 构造真实数据的标签\n",
    "    true_labels = None\n",
    "    \n",
    "    #todo: 构造生成数据的标签\n",
    "    fake_labels = None\n",
    "    \n",
    "    #todo: 构造随机噪声, 作为生成网络的输入\n",
    "    sample_noise = None\n",
    "\n",
    "    return true_labels, fake_labels, sample_noise"
   ]
  },
  {
   "cell_type": "markdown",
   "metadata": {},
   "source": [
    "### 构建判别网络\n",
    "然后建立判别网络，由前面的课程我们知道判别网络就是一个二分类网络"
   ]
  },
  {
   "cell_type": "code",
   "execution_count": null,
   "metadata": {},
   "outputs": [],
   "source": [
    "def dc_discriminator(inputs, scope='dc_discriminator', reuse=None):\n",
    "    #todo: 构造一个2分类判别网络\n",
    "    with tf.variable_scope(scope, reuse=reuse):\n",
    "        net = None\n",
    "            \n",
    "    return net"
   ]
  },
  {
   "cell_type": "markdown",
   "metadata": {},
   "source": [
    "### 建立生成网络\n",
    "下面我们利用线性层和反卷积来建立一个生成网络，可以查看一下前面的课程寻找一些灵感"
   ]
  },
  {
   "cell_type": "code",
   "execution_count": null,
   "metadata": {},
   "outputs": [],
   "source": [
    "def dc_generator(inputs, scope='dc_generator', reuse=None):\n",
    "    #todo: 构造一个生成网络, 输出大小是 (batch, 28, 28, 3)\n",
    "    with tf.variable_scope(scope, reuse=reuse):\n",
    "        net = None\n",
    "    \n",
    "    return net"
   ]
  },
  {
   "cell_type": "markdown",
   "metadata": {},
   "source": [
    "### 构建 loss\n",
    "在前面的课程中我们已经描述并实现过生成对抗网络的loss，下面请不要查看前面的课程，自己再实现一下"
   ]
  },
  {
   "cell_type": "code",
   "execution_count": null,
   "metadata": {},
   "outputs": [],
   "source": [
    "def discriminator_loss(logits_real, logits_fake, true_labels, fake_labels, scope='D_loss'): # 判别网络的`loss`\n",
    "    with tf.variable_scope(scope):\n",
    "        #todo: 构造判别网络的 loss\n",
    "        loss = None\n",
    "    return loss\n",
    "    \n",
    "def generator_loss(logits_fake, true_labels, scope='G_loss'): # 生成网络的`loss`\n",
    "    with tf.variable_scope(scope):\n",
    "        #todo: 构造生成网络的 loss\n",
    "        loss = None\n",
    "    return loss"
   ]
  },
  {
   "cell_type": "markdown",
   "metadata": {},
   "source": [
    "### 构建优化器\n",
    "\n",
    "- 构建判别网络的优化算子\n",
    "- 构建生成网络的优化算子"
   ]
  },
  {
   "cell_type": "code",
   "execution_count": null,
   "metadata": {},
   "outputs": [],
   "source": [
    "def get_optimizer(d_total_error, g_total_error, discriminator_scope='dc_discriminator', generator_scope='dc_generator'):\n",
    "    #todo: 使用 adam 进行优化，自己尝试一些学习率\n",
    "    opt = None\n",
    "\n",
    "    #todo: 使用优化器优化 d_total_error 和 g_total_error 得到两个优化算子\n",
    "    train_discriminator = None\n",
    "    train_generator = None\n",
    "    \n",
    "    return train_discriminator, train_generator"
   ]
  },
  {
   "cell_type": "markdown",
   "metadata": {},
   "source": [
    "### 构建整体框架"
   ]
  },
  {
   "cell_type": "code",
   "execution_count": null,
   "metadata": {},
   "outputs": [],
   "source": [
    "class DCGAN:\n",
    "    def __init__(self, batch_size, noise_dim, data):\n",
    "        #todo: 构建输入, 得到 true_labels, fake_labels, sample_noise\n",
    "        true_labels, fake_labels, sample_noise = None\n",
    "        \n",
    "        #todo: 构造生成网络, 得到生成的图像\n",
    "        self.inputs_fake = None\n",
    "        \n",
    "        # 调用deprocess, 得到RGB形式的生成图像\n",
    "        self.fake_imgs = tf.map_fn(lambda img: deprocess(img), self.inputs_fake)\n",
    "        \n",
    "        # 构建判别网络\n",
    "        ##todo: 真实数据的判别网络\n",
    "        self.logits_real = None\n",
    "        \n",
    "        ##todo: 生成数据的判别网络\n",
    "        self.logits_fake = None\n",
    "        \n",
    "        # 构建损失函数\n",
    "        ##todo: discriminator loss\n",
    "        self.d_total_error = None\n",
    "        \n",
    "        ##todo: generator loss\n",
    "        self.g_total_error = None\n",
    "        \n",
    "        #todo: 构建优化器\n",
    "        self.train_discriminator, self.train_generator = None\n",
    "    \n",
    "    # 训练函数\n",
    "    def train(self, num_steps=5000, show_every=250):\n",
    "        with tf.Session() as sess:\n",
    "            sess.run(tf.global_variables_initializer())\n",
    "            \n",
    "            for iter_count in range(num_steps):\n",
    "                \n",
    "                #todo: 首先训练判别网络\n",
    "                _ = None\n",
    "                \n",
    "                #todo: 然后训练生成网络, \n",
    "                #并得到判别网络的loss->loss_d, 生成网络的loss->loss_g, 生成网络生成的RGB图像->fake_images\n",
    "                loss_d, loss_g, fake_images, _ = None\n",
    "                \n",
    "                #------------------这里不要修改!------------------#\n",
    "                if (iter_count % show_every == 0):\n",
    "                    print('Iter: {}, D: {:.4f}, G: {:.4f}'.format(iter_count, loss_d, loss_g))\n",
    "                    show_images(fake_images[:16])\n",
    "                    plt.show()\n",
    "                    print()"
   ]
  },
  {
   "cell_type": "markdown",
   "metadata": {},
   "source": [
    "现在我们生成这样一个模型"
   ]
  },
  {
   "cell_type": "code",
   "execution_count": null,
   "metadata": {},
   "outputs": [],
   "source": [
    "dcgan = DCGAN(batch_size, NOISE_DIM, train_data)"
   ]
  },
  {
   "cell_type": "markdown",
   "metadata": {},
   "source": [
    "然后调用它的`train`函数看看生成的图像"
   ]
  },
  {
   "cell_type": "code",
   "execution_count": null,
   "metadata": {},
   "outputs": [],
   "source": [
    "dcgan.train()"
   ]
  }
 ],
 "metadata": {
  "kernelspec": {
   "display_name": "Python 2",
   "language": "python",
   "name": "python2"
  },
  "language_info": {
   "codemirror_mode": {
    "name": "ipython",
    "version": 2
   },
   "file_extension": ".py",
   "mimetype": "text/x-python",
   "name": "python",
   "nbconvert_exporter": "python",
   "pygments_lexer": "ipython2",
   "version": "2.7.12"
  }
 },
 "nbformat": 4,
 "nbformat_minor": 2
}
