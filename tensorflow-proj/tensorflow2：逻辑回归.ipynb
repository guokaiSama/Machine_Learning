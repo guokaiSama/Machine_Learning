{
 "cells": [
  {
   "cell_type": "code",
   "execution_count": 1,
   "metadata": {},
   "outputs": [
    {
     "name": "stderr",
     "output_type": "stream",
     "text": [
      "/usr/local/lib/python3.5/dist-packages/h5py/__init__.py:36: FutureWarning: Conversion of the second argument of issubdtype from `float` to `np.floating` is deprecated. In future, it will be treated as `np.float64 == np.dtype(float).type`.\n",
      "  from ._conv import register_converters as _register_converters\n"
     ]
    }
   ],
   "source": [
    "from __future__ import print_function\n",
    "from __future__ import division\n",
    "from __future__ import absolute_import\n",
    "\n",
    "import tensorflow as tf\n",
    "import numpy as np\n",
    "import matplotlib.pyplot as plt\n",
    "\n",
    "tf.set_random_seed(2017)"
   ]
  },
  {
   "cell_type": "markdown",
   "metadata": {},
   "source": [
    "从`logistic_regression_data.txt`中读取数据\n",
    "\n",
    "文件的每一行由三个元素构成, `x`坐标, `y`坐标, 对应`label`"
   ]
  },
  {
   "cell_type": "code",
   "execution_count": 2,
   "metadata": {},
   "outputs": [
    {
     "data": {
      "text/plain": [
       "<matplotlib.legend.Legend at 0x7f06b9ab6c88>"
      ]
     },
     "execution_count": 2,
     "metadata": {},
     "output_type": "execute_result"
    },
    {
     "data": {
      "image/png": "[encoded data removed]",
      "text/plain": [
       "<Figure size 432x288 with 1 Axes>"
      ]
     },
     "metadata": {},
     "output_type": "display_data"
    }
   ],
   "source": [
    "%matplotlib inline\n",
    "\n",
    "# 从 data.txt 中读入点\n",
    "with open('./data/logistic_regression.txt', 'r') as f:\n",
    "    data_list = [i.split('\\n')[0].split(',') for i in f.readlines()]\n",
    "    data = [(float(i[0]), float(i[1]), float(i[2])) for i in data_list]\n",
    "\n",
    "# 标准化\n",
    "x0_max = max([i[0] for i in data])\n",
    "x1_max = max([i[1] for i in data])\n",
    "data = [(i[0]/x0_max, i[1]/x1_max, i[2]) for i in data]\n",
    "\n",
    "x0 = list(filter(lambda x: x[-1] == 0.0, data)) # 选择第一类的点\n",
    "x1 = list(filter(lambda x: x[-1] == 1.0, data)) # 选择第二类的点\n",
    "\n",
    "plot_x0 = [i[0] for i in x0]\n",
    "plot_y0 = [i[1] for i in x0]\n",
    "plot_x1 = [i[0] for i in x1]\n",
    "plot_y1 = [i[1] for i in x1]\n",
    "\n",
    "plt.plot(plot_x0, plot_y0, 'ro', label='x_0')\n",
    "plt.plot(plot_x1, plot_y1, 'bo', label='x_1')\n",
    "plt.legend(loc='best')"
   ]
  },
  {
   "cell_type": "code",
   "execution_count": 3,
   "metadata": {},
   "outputs": [],
   "source": [
    "np_data = np.array(data, dtype='float32') # 转换成 numpy array\n",
    "x_data = tf.constant(np_data[:, 0:2], name='x') # 转换成 Tensor, 大小是 [100, 2]\n",
    "y_data = tf.expand_dims(tf.constant(np_data[:, -1]), axis=-1) # 转换成 Tensor，大小是 [100, 1]"
   ]
  },
  {
   "cell_type": "markdown",
   "metadata": {},
   "source": [
    "构建模型"
   ]
  },
  {
   "cell_type": "code",
   "execution_count": 4,
   "metadata": {},
   "outputs": [],
   "source": [
    "w = tf.get_variable(initializer=tf.random_normal_initializer(seed=2017), shape=(2, 1), name='weights')\n",
    "b = tf.get_variable(initializer=tf.zeros_initializer(), shape=(1), name='bias')\n",
    "\n",
    "def logistic_regression(x):\n",
    "    # 使用 tf.sigmoid 将结果映射到 [0, 1] 区间\n",
    "    return tf.sigmoid(tf.matmul(x, w) + b)"
   ]
  },
  {
   "cell_type": "code",
   "execution_count": 5,
   "metadata": {},
   "outputs": [],
   "source": [
    "sess = tf.InteractiveSession()\n",
    "sess.run(tf.global_variables_initializer())"
   ]
  },
  {
   "cell_type": "markdown",
   "metadata": {},
   "source": [
    "画出模型随机初始化的分类效果"
   ]
  },
  {
   "cell_type": "code",
   "execution_count": 6,
   "metadata": {},
   "outputs": [
    {
     "data": {
      "text/plain": [
       "<matplotlib.legend.Legend at 0x7f06b8098518>"
      ]
     },
     "execution_count": 6,
     "metadata": {},
     "output_type": "execute_result"
    },
    {
     "data": {
      "image/png": "[encoded data removed]",
      "text/plain": [
       "<Figure size 432x288 with 1 Axes>"
      ]
     },
     "metadata": {},
     "output_type": "display_data"
    }
   ],
   "source": [
    "%matplotlib inline\n",
    "\n",
    "# 画出初始分类效果\n",
    "w_numpy = w.eval(session=sess)\n",
    "b_numpy = b.eval(session=sess)\n",
    "\n",
    "w0 = w_numpy[0]\n",
    "w1 = w_numpy[1]\n",
    "b0 = b_numpy[0]\n",
    "\n",
    "plot_x = np.arange(0.2, 1, 0.01)\n",
    "plot_y = (-w0 * plot_x - b0) / w1\n",
    "\n",
    "plt.plot(plot_x, plot_y, 'g', label='cutting line')\n",
    "plt.plot(plot_x0, plot_y0, 'ro', label='x_0')\n",
    "plt.plot(plot_x1, plot_y1, 'bo', label='x_1')\n",
    "plt.legend(loc='best')"
   ]
  },
  {
   "cell_type": "markdown",
   "metadata": {},
   "source": [
    "### 优化模型\n",
    "- 损失函数\n",
    "\n",
    "$$\n",
    "loss = -(y log(\\hat{y}) + (1 - y) log(1 - \\hat{y}))\n",
    "$$\n"
   ]
  },
  {
   "cell_type": "code",
   "execution_count": 8,
   "metadata": {},
   "outputs": [
    {
     "name": "stdout",
     "output_type": "stream",
     "text": [
      "0.7408897\n"
     ]
    }
   ],
   "source": [
    "def binary_loss(y_pred, y):\n",
    "    logit = tf.reduce_mean(y * tf.log(y_pred) + (1 - y) * tf.log(1 - y_pred))\n",
    "    return -logit\n",
    "\n",
    "y_pred = logistic_regression(x_data)\n",
    "loss = binary_loss(y_pred, y_data)\n",
    "\n",
    "print(loss.eval(session=sess))"
   ]
  },
  {
   "cell_type": "markdown",
   "metadata": {},
   "source": [
    "我们继续用梯度下降法来进行模型优化"
   ]
  },
  {
   "cell_type": "code",
   "execution_count": 9,
   "metadata": {},
   "outputs": [
    {
     "name": "stdout",
     "output_type": "stream",
     "text": [
      "0.7321346\n"
     ]
    }
   ],
   "source": [
    "# 梯度计算以及参数更新\n",
    "w_grad, b_grad = tf.gradients(loss, [w, b])\n",
    "\n",
    "lr = 0.1\n",
    "\n",
    "w_update = w.assign_sub(lr * w_grad)\n",
    "b_update = b.assign_sub(lr * b_grad)\n",
    "\n",
    "# 更新一次参数\n",
    "sess.run([w_update, b_update])\n",
    "\n",
    "# 查看更新后的`loss`\n",
    "print(loss.eval(session=sess))"
   ]
  },
  {
   "cell_type": "code",
   "execution_count": 10,
   "metadata": {},
   "outputs": [],
   "source": [
    "# 首先从tf.train中定义一个优化方法\n",
    "optimizer = tf.train.GradientDescentOptimizer(learning_rate=1, name='optimizer')\n",
    "\n",
    "# 利用这个优化方法去优化一个损失函数, 得到的这个`op`就是我们想要的\n",
    "train_op = optimizer.minimize(loss)"
   ]
  },
  {
   "cell_type": "markdown",
   "metadata": {},
   "source": [
    "现在我们得到了一个`train_op`, 它实际上等价于上面更新模型的所有操作, 也就是说`train_op = 计算梯度 + 参数更新`, 我们来看一下它的效果吧"
   ]
  },
  {
   "cell_type": "code",
   "execution_count": 11,
   "metadata": {
    "scrolled": true
   },
   "outputs": [
    {
     "name": "stdout",
     "output_type": "stream",
     "text": [
      "Epoch 200, Loss: 0.4091, Acc: 0.9100\n",
      "Epoch 400, Loss: 0.3296, Acc: 0.9200\n",
      "Epoch 600, Loss: 0.2934, Acc: 0.9100\n",
      "Epoch 800, Loss: 0.2725, Acc: 0.9100\n",
      "Epoch 1000, Loss: 0.2588, Acc: 0.9000\n",
      "\n",
      "manual_GD cost time: 0.5839\n"
     ]
    }
   ],
   "source": [
    "import time\n",
    "\n",
    "sess.run(tf.global_variables_initializer())\n",
    "\n",
    "# 这一行用于时间统计，不重要\n",
    "start = time.time()\n",
    "for e in range(1000):\n",
    "    sess.run(train_op)\n",
    "    \n",
    "    if (e + 1) % 200 == 0:\n",
    "        # 计算正确率\n",
    "        y_true_label = y_data.eval(session=sess)\n",
    "        y_pred_numpy = y_pred.eval(session=sess)\n",
    "        y_pred_label = np.greater_equal(y_pred_numpy, 0.5).astype(np.float32)\n",
    "        accuracy = np.mean(y_pred_label == y_true_label)\n",
    "        loss_numpy = loss.eval(session=sess)\n",
    "        print('Epoch %d, Loss: %.4f, Acc: %.4f' % (e + 1, loss_numpy, accuracy))\n",
    "    \n",
    "print()\n",
    "print('manual_GD cost time: %.4f' % (time.time() - start))"
   ]
  },
  {
   "cell_type": "code",
   "execution_count": 12,
   "metadata": {},
   "outputs": [
    {
     "data": {
      "text/plain": [
       "<matplotlib.legend.Legend at 0x7f067c0643c8>"
      ]
     },
     "execution_count": 12,
     "metadata": {},
     "output_type": "execute_result"
    },
    {
     "data": {
      "image/png": "[encoded data removed]",
      "text/plain": [
       "<Figure size 432x288 with 1 Axes>"
      ]
     },
     "metadata": {},
     "output_type": "display_data"
    }
   ],
   "source": [
    "%matplotlib inline\n",
    "\n",
    "# 画出最终分类效果\n",
    "w_numpy = w.eval(session=sess)\n",
    "b_numpy = b.eval(session=sess)\n",
    "\n",
    "w0 = w_numpy[0]\n",
    "w1 = w_numpy[1]\n",
    "b0 = b_numpy[0]\n",
    "\n",
    "plot_x = np.arange(0.2, 1, 0.01)\n",
    "plot_y = (-w0 * plot_x - b0) / w1\n",
    "\n",
    "plt.plot(plot_x, plot_y, 'g', label='cutting line')\n",
    "plt.plot(plot_x0, plot_y0, 'ro', label='x_0')\n",
    "plt.plot(plot_x1, plot_y1, 'bo', label='x_1')\n",
    "plt.legend(loc='best')"
   ]
  },
  {
   "cell_type": "code",
   "execution_count": 13,
   "metadata": {},
   "outputs": [],
   "source": [
    "loss1 = tf.losses.log_loss(predictions=y_pred, labels=y_data)\n",
    "optimizer1 = tf.train.GradientDescentOptimizer(learning_rate=lr)\n",
    "train_op1 = optimizer1.minimize(loss1)"
   ]
  },
  {
   "cell_type": "code",
   "execution_count": 14,
   "metadata": {},
   "outputs": [
    {
     "name": "stdout",
     "output_type": "stream",
     "text": [
      "Epoch 200, Loss: 0.6286, Acc: 0.6000\n",
      "Epoch 400, Loss: 0.5843, Acc: 0.6000\n",
      "Epoch 600, Loss: 0.5474, Acc: 0.6700\n",
      "Epoch 800, Loss: 0.5164, Acc: 0.7600\n",
      "Epoch 1000, Loss: 0.4902, Acc: 0.7900\n",
      "\n",
      "Tensorflow_GD cost time: 0.7588\n"
     ]
    }
   ],
   "source": [
    "sess.run(tf.global_variables_initializer())\n",
    "\n",
    "start = time.time()\n",
    "for e in range(1000):\n",
    "    sess.run(train_op1)\n",
    "    \n",
    "    if (e + 1) % 200 == 0:\n",
    "        # 计算正确率\n",
    "        y_true_label = y_data.eval(session=sess)\n",
    "        y_pred_numpy = y_pred.eval(session=sess)\n",
    "        y_pred_label = np.greater_equal(y_pred_numpy, 0.5).astype(np.float32)\n",
    "        accuracy = np.mean(y_pred_label == y_true_label)\n",
    "        loss_numpy = loss.eval(session=sess)\n",
    "        print('Epoch %d, Loss: %.4f, Acc: %.4f' % (e + 1, loss_numpy, accuracy))\n",
    "\n",
    "print()\n",
    "print('Tensorflow_GD cost time: %.4f' % (time.time() - start))"
   ]
  }
 ],
 "metadata": {
  "kernelspec": {
   "display_name": "Python 3",
   "language": "python",
   "name": "python3"
  },
  "language_info": {
   "codemirror_mode": {
    "name": "ipython",
    "version": 3
   },
   "file_extension": ".py",
   "mimetype": "text/x-python",
   "name": "python",
   "nbconvert_exporter": "python",
   "pygments_lexer": "ipython3",
   "version": "3.5.2"
  }
 },
 "nbformat": 4,
 "nbformat_minor": 2
}
