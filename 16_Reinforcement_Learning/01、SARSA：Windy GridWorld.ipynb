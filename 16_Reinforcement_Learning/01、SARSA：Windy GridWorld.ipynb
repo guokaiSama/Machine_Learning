{
 "cells": [
  {
   "cell_type": "markdown",
   "metadata": {},
   "source": [
    "&emsp;&emsp;如下图有一个10×7的长方形格子世界，标记有一个起始位置 S 和一个终止目标位置 G，格子下方的数字表示对应的列中风的强度。当个体进入该列的某个格子时，会按图中箭头所示的方向自动移动数字表示的格数，借此来模拟真实世界中的风。   \n",
    "&emsp;&emsp;同样，格子世界是有边界的，个体任意时刻只能处在世界内部的一个格子中。个体并不清楚这个世界的构造以及是否有风。但是个体会记住曾经经过的格子，下次在进入这个格子时，它能记住这个格子曾经什么时候来过。格子可以执行的行为是朝上、下、左、右移动一步，每移动一步只要不是进入目标位置都给予一个 -1 的惩罚，直至进入目标位置后获得奖励 0 同时永久停留在该位置。现在的问题是个体应该遵循怎样的策略才能尽快的从起始位置到达目标位置。  \n",
    "![image](./image/1.bmp)"
   ]
  },
  {
   "cell_type": "code",
   "execution_count": 2,
   "metadata": {},
   "outputs": [],
   "source": [
    "import numpy as np\n",
    "import matplotlib\n",
    "matplotlib.use('Agg')\n",
    "import matplotlib.pyplot as plt"
   ]
  },
  {
   "cell_type": "code",
   "execution_count": 3,
   "metadata": {},
   "outputs": [],
   "source": [
    "# 定义世界的 height\n",
    "WORLD_HEIGHT = 7\n",
    "# 定义世界的 width\n",
    "WORLD_WIDTH = 10\n",
    "\n",
    "# 每一列的风强度\n",
    "WIND = [0, 0, 0, 1, 1, 1, 2, 2, 1, 0]\n",
    "\n",
    "# 动作集A\n",
    "ACTION_UP = 0\n",
    "ACTION_DOWN = 1\n",
    "ACTION_LEFT = 2\n",
    "ACTION_RIGHT = 3\n",
    "ACTIONS = [ACTION_UP, ACTION_DOWN, ACTION_LEFT, ACTION_RIGHT]\n",
    "\n",
    "# 定义探索率EPSILON\n",
    "EPSILON = 0.1\n",
    "\n",
    "# 定义步长\n",
    "ALPHA = 0.5\n",
    "\n",
    "# 定义奖励R\n",
    "REWARD = -1.0\n",
    "\n",
    "# 定时起始位置和终止位置\n",
    "START = [3, 0]\n",
    "GOAL = [3, 7]"
   ]
  },
  {
   "cell_type": "code",
   "execution_count": 78,
   "metadata": {},
   "outputs": [],
   "source": [
    "def step(state, action):\n",
    "    i, j = state\n",
    "    if action == ACTION_UP:\n",
    "        return [max(i - 1 - WIND[j], 0), j]\n",
    "    elif action == ACTION_DOWN:\n",
    "        return [max(min(i + 1 - WIND[j], WORLD_HEIGHT - 1), 0), j]\n",
    "    elif action == ACTION_LEFT:\n",
    "        return [max(i - WIND[j], 0), max(j - 1, 0)]\n",
    "    elif action == ACTION_RIGHT:\n",
    "        return [max(i - WIND[j], 0), min(j + 1, WORLD_WIDTH - 1)]\n",
    "    else:\n",
    "        assert False\n",
    "\n",
    "def episode(q_value):\n",
    "    # 保存在该episode下的步数\n",
    "    time = 0\n",
    "\n",
    "    # 初始化起始位置\n",
    "    state = START\n",
    "    \n",
    "    \"\"\"\n",
    "    np.random.binomial(n, p, size=None)\n",
    "    表示对一个二项分布进行采样，参数中的n,p分别对应于公式中的n,p，函数的返回值表示n中成功（success）的次数。\n",
    "    size表示采样的次数\n",
    "    for i in range(0,50):\n",
    "        print (np.random.binomial(1, EPSILON))\n",
    "    \"\"\"\n",
    "    \n",
    "    # 使用epsilon-greedy算法选择动作A\n",
    "    if np.random.binomial(1, EPSILON) == 1:\n",
    "        action = np.random.choice(ACTIONS)#选择该action的概率为EPSILON*（1/4）\n",
    "    else:\n",
    "        #获得初始状态state对应的Q,即动作价值（四个动作，所以有四个动作价值）\n",
    "        values_ = q_value[state[0], state[1], :]\n",
    "        # 以1-EPSILON的概率贪婪选择最大的动作价值，分母是可选行为的个数\n",
    "        action = np.random.choice([action_ for action_, value_ in enumerate(values_) if value_ == np.max(values_)])\n",
    "    \n",
    "    # 循环，直至到达终点\n",
    "    while state != GOAL:\n",
    "        # 生成下一个state\n",
    "        next_state = step(state, action)\n",
    "        #选择动作\n",
    "        if np.random.binomial(1, EPSILON) == 1:\n",
    "            next_action = np.random.choice(ACTIONS)\n",
    "        else:\n",
    "            values_ = q_value[next_state[0], next_state[1], :]\n",
    "            next_action = np.random.choice([action_ for action_, value_ in enumerate(values_) if value_ == np.max(values_)])\n",
    "\n",
    "        # 更新价值函数Q（S，A）\n",
    "        q_value[state[0], state[1], action] += \\\n",
    "            ALPHA * (REWARD + q_value[next_state[0], next_state[1], next_action] -\n",
    "                     q_value[state[0], state[1], action])\n",
    "        state = next_state\n",
    "        action = next_action\n",
    "        time += 1\n",
    "    return time"
   ]
  },
  {
   "cell_type": "code",
   "execution_count": 83,
   "metadata": {},
   "outputs": [
    {
     "name": "stdout",
     "output_type": "stream",
     "text": [
      "Optimal policy is:\n",
      "['R', 'U', 'R', 'R', 'R', 'R', 'R', 'R', 'R', 'R']\n",
      "['R', 'R', 'R', 'U', 'R', 'R', 'R', 'U', 'R', 'D']\n",
      "['R', 'R', 'R', 'R', 'R', 'R', 'R', 'U', 'R', 'D']\n",
      "['D', 'R', 'R', 'R', 'R', 'R', 'U', 'G', 'R', 'D']\n",
      "['R', 'D', 'R', 'R', 'R', 'U', 'U', 'D', 'L', 'L']\n",
      "['R', 'R', 'R', 'R', 'R', 'U', 'U', 'D', 'L', 'L']\n",
      "['R', 'D', 'R', 'R', 'U', 'U', 'U', 'U', 'L', 'U']\n",
      "Wind strength for each column:\n",
      "['0', '0', '0', '1', '1', '1', '2', '2', '1', '0']\n"
     ]
    },
    {
     "data": {
      "image/png": "[encoded data removed]",
      "text/plain": [
       "<Figure size 432x288 with 1 Axes>"
      ]
     },
     "metadata": {},
     "output_type": "display_data"
    }
   ],
   "source": [
    "%matplotlib inline\n",
    "# 随机初始化所有的Q,大小为WORLD_HEIGHT*WORLD_WIDTH*4，4代表4个动作\n",
    "q_value = np.zeros((WORLD_HEIGHT, WORLD_WIDTH, 4))\n",
    "# 定义迭代轮数T\n",
    "episode_limit = 500\n",
    "\n",
    "# 保存每一步迭代结果\n",
    "steps = []\n",
    "\n",
    "# 进行迭代\n",
    "ep = 0\n",
    "while ep < episode_limit:\n",
    "    steps.append(episode(q_value))\n",
    "    ep += 1\n",
    "# 保存步数\n",
    "steps = np.add.accumulate(steps)\n",
    "#展示随着迭代轮次的增加，步数的变化\n",
    "plt.plot(steps, np.arange(1, len(steps) + 1))\n",
    "plt.xlabel('Time steps')\n",
    "plt.ylabel('Episodes')\n",
    "# 输出最优策略\n",
    "optimal_policy = []\n",
    "for i in range(0, WORLD_HEIGHT):\n",
    "    optimal_policy.append([])\n",
    "    for j in range(0, WORLD_WIDTH):\n",
    "        if [i, j] == GOAL:\n",
    "            optimal_policy[-1].append('G')\n",
    "            continue\n",
    "        bestAction = np.argmax(q_value[i, j, :])\n",
    "        if bestAction == ACTION_UP:\n",
    "            optimal_policy[-1].append('U')\n",
    "        elif bestAction == ACTION_DOWN:\n",
    "            optimal_policy[-1].append('D')\n",
    "        elif bestAction == ACTION_LEFT:\n",
    "            optimal_policy[-1].append('L')\n",
    "        elif bestAction == ACTION_RIGHT:\n",
    "            optimal_policy[-1].append('R')\n",
    "print('Optimal policy is:')\n",
    "for row in optimal_policy:\n",
    "    print(row)\n",
    "print('Wind strength for each column:\\n{}'.format([str(w) for w in WIND]))"
   ]
  },
  {
   "cell_type": "code",
   "execution_count": null,
   "metadata": {},
   "outputs": [],
   "source": []
  },
  {
   "cell_type": "code",
   "execution_count": null,
   "metadata": {},
   "outputs": [],
   "source": []
  }
 ],
 "metadata": {
  "kernelspec": {
   "display_name": "Python 3",
   "language": "python",
   "name": "python3"
  },
  "language_info": {
   "codemirror_mode": {
    "name": "ipython",
    "version": 3
   },
   "file_extension": ".py",
   "mimetype": "text/x-python",
   "name": "python",
   "nbconvert_exporter": "python",
   "pygments_lexer": "ipython3",
   "version": "3.5.2"
  }
 },
 "nbformat": 4,
 "nbformat_minor": 2
}
